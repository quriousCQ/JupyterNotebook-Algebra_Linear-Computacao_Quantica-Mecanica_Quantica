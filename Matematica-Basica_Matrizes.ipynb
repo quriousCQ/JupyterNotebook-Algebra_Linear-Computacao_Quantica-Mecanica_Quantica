{
 "cells": [
  {
   "cell_type": "markdown",
   "id": "350822db-d67e-43b8-8881-af69695f45a5",
   "metadata": {},
   "source": [
    "<h1 align=\"left\" style=\"color:#3149b5;\"> QURIOUS - COMPUTAÇÃO QUÂNTICA </h1>\n",
    "<h2 align=\"left\" style=\"color:#3149b5;\"> Álgebra Linear para Computação Quântica e Mecânica Quântica </h2>\n",
    "<h3 align=\"left\" style=\"color:#000000;\"> Por Lucas Gregolon e Suzielli Martins Mendonça, com base no trabalho de QWorld e IBM. </h3>\n",
    "<h4 <a href=\"https://qworld.net/qbook101/\"></a> https://qworld.net/qbook101/ e https://docs.quantum.ibm.com/guides/hello-world </h4>"
   ]
  },
  {
   "cell_type": "markdown",
   "id": "d2c8a9ca-9abc-4dc5-880b-5350ea1d0dda",
   "metadata": {},
   "source": [
    "<font style=\"font-size:28px;\" align=\"left\"><b>Matrizes: Listas Bidimensionais </b></font>\n",
    "<br>"
   ]
  },
  {
   "cell_type": "markdown",
   "id": "a910476a-45c3-4820-ad5d-842d038cb8a1",
   "metadata": {},
   "source": [
    "Uma matriz é uma lista de vetores onde cada vetor tem a mesma dimensão.\n",
    "\n",
    "Aqui está um exemplo de matriz formada por 4 vetores linha com dimensão 5:\n",
    "\n",
    "$$\n",
    "M =  \\begin{pmatrix} 8 & 0 & -1 & 0 & 2 \\\\ -2 & -3 & 1 & 1 & 4 \\\\ 0 & 0 & 1 & -7 & 1 \\\\ 1 & 4 & -2 & 5 & 9 \\end{pmatrix}.\n",
    "$$\n",
    "\n",
    "Podemos dizer também que $M$ é formado por 5 vetores coluna com dimensão 4.\n",
    "\n",
    "$M$ é chamado de matriz $ (4 \\times 5) $-dimensional. ($4 \\times 5$: \"quatro por cinco\") \n",
    "\n",
    "Podemos representar $M$ como uma lista bidimensional em Python."
   ]
  },
  {
   "cell_type": "code",
   "execution_count": 37,
   "id": "7bba25fb-70ac-4ed8-88da-b0d43d8ea8bf",
   "metadata": {},
   "outputs": [
    {
     "name": "stdout",
     "output_type": "stream",
     "text": [
      "[[8, 0, -1, 0, 2], [-2, -3, 1, 1, 4], [0, 0, 1, -7, 1], [1, 4, -2, 5, 9]]\n"
     ]
    }
   ],
   "source": [
    "# podemos quebrar linhas ao definir nossa lista\n",
    "M = [ \n",
    "    [8 , 0 , -1 , 0 , 2], \n",
    "    [-2 , -3 , 1 , 1 , 4], \n",
    "    [0 , 0 , 1 , -7 , 1],\n",
    "    [1 , 4 , -2 , 5 , 9]\n",
    "] \n",
    "\n",
    "# vamos imprimir a matriz M\n",
    "print(M)"
   ]
  },
  {
   "cell_type": "code",
   "execution_count": 38,
   "id": "7c604a1a-c7ad-40bf-a827-1aed54a6c029",
   "metadata": {},
   "outputs": [
    {
     "name": "stdout",
     "output_type": "stream",
     "text": [
      "[8, 0, -1, 0, 2]\n",
      "[-2, -3, 1, 1, 4]\n",
      "[0, 0, 1, -7, 1]\n",
      "[1, 4, -2, 5, 9]\n"
     ]
    }
   ],
   "source": [
    "# vamos imprimir M em forma de matriz, linha por linha\n",
    "\n",
    "for i in range(4): # existem 4 linhas\n",
    "    print(M[i])"
   ]
  },
  {
   "cell_type": "markdown",
   "id": "b759a5d5-d727-44ab-94ce-1260fc8fc823",
   "metadata": {},
   "source": [
    "Observe que, por definição, as linhas e colunas das matrizes são indexadas a partir de 1.\n",
    "\n",
    "A $(i,j)$-ésima entrada de $M$ refere-se à entrada na $i$-ésima linha e $j$-ésima coluna.\n",
    "\n",
    "(Também é denotado como $ M[i,j] $, $ M(i,j) $ ou $ M_{ij} $.)\n",
    "\n",
    "Por outro lado, em Python, os índices começam do zero.\n",
    "\n",
    "Portanto, quando definimos uma lista para uma matriz ou vetor em Python, o valor de um índice em Python é um a menos que o valor do índice original.\n",
    "\n",
    "Vamos ver isso com o exemplo a seguir."
   ]
  },
  {
   "cell_type": "code",
   "execution_count": 39,
   "id": "b594ff03-67b2-470f-90f3-7cc481f182ba",
   "metadata": {},
   "outputs": [
    {
     "name": "stdout",
     "output_type": "stream",
     "text": [
      "8\n",
      "-7\n",
      "9\n"
     ]
    }
   ],
   "source": [
    "M = [ \n",
    "    [8 , 0 , -1 , 0 , 2], \n",
    "    [-2 , -3 , 1 , 1 , 4], \n",
    "    [0 , 0 , 1 , -7 , 1],\n",
    "    [1 , 4 , -2 , 5 , 9]\n",
    "] \n",
    "\n",
    "# imprime o elemento de M na 1ª linha e na 1ª coluna.\n",
    "print(M[0][0])\n",
    "\n",
    "# imprime o elemento de M na 3ª linha e na 4ª coluna.\n",
    "print(M[2][3])\n",
    "\n",
    "# imprime o elemento de M na 4ª linha e na 5ª coluna.\n",
    "print(M[3][4])"
   ]
  },
  {
   "cell_type": "markdown",
   "id": "e03f04dc-fb6e-47ca-a9b7-80f23bb39d5a",
   "metadata": {},
   "source": [
    "<h3> Multiplicando uma matriz por um número </h3>\n",
    "\n",
    "Quando a matriz $M$ é multiplicada por $-2$, cada entrada é multiplicada por $-2$."
   ]
  },
  {
   "cell_type": "code",
   "execution_count": 40,
   "id": "d35f5482-1ec0-4066-8148-8a3e4117bca7",
   "metadata": {},
   "outputs": [
    {
     "name": "stdout",
     "output_type": "stream",
     "text": [
      "Matriz M:\n",
      "[8, 0, -1, 0, 2]\n",
      "[-2, -3, 1, 1, 4]\n",
      "[0, 0, 1, -7, 1]\n",
      "[1, 4, -2, 5, 9]\n",
      "\n",
      "Matriz N:\n",
      "[-16, 0, 2, 0, -4]\n",
      "[4, 6, -2, -2, -8]\n",
      "[0, 0, -2, 14, -2]\n",
      "[-2, -8, 4, -10, -18]\n"
     ]
    }
   ],
   "source": [
    "# usamos loops \"for\" duplos\n",
    "\n",
    "N =[] # a matriz de resultado\n",
    "\n",
    "for i in range(4): # para cada linha\n",
    "    N.append([])# cria uma sublista vazia para cada linha na matriz de resultado\n",
    "    for j in range(5): # na linha (i+1), fazemos o seguinte para cada coluna\n",
    "        N[i].append(M[i][j]*-2) # adicionamos novos elementos à i-ésima sublista\n",
    "        \n",
    "# imprime M e N e vê-se os resultados\n",
    "print(\"Matriz M:\")\n",
    "for i in range(4):\n",
    "    print(M[i])\n",
    "\n",
    "print()\n",
    "\n",
    "print(\"Matriz N:\")\n",
    "for i in range(4):\n",
    "    print(N[i])"
   ]
  },
  {
   "cell_type": "markdown",
   "id": "5844881b-3d98-4e94-9137-2d3f22721212",
   "metadata": {},
   "source": [
    "Escrevendo a matriz $N= -2 M$:\n",
    "\n",
    "$$\n",
    "N = -2 M = \\begin{pmatrix} -16 & 0 & 2 & 0 & -4 \\\\ 4 & 6 & -2 & -2 & -8 \\\\ 0 & 0 & -2 & 14 & -2 \\\\ -2 & -8 & 4 & -10 & -18 \\end{pmatrix}.\n",
    "$$"
   ]
  },
  {
   "cell_type": "markdown",
   "id": "dd402c53-09b0-4318-8ecd-faf2184fbf52",
   "metadata": {},
   "source": [
    "<h3> Soma das matrizes</h3>\n",
    "\n",
    "Se $M$ e $N$ são matrizes com as mesmas dimensões, então $M+N$ também é uma matriz com as mesmas dimensões.\n",
    "\n",
    "A soma de duas matrizes é semelhante à soma de dois vetores. \n",
    "\n",
    "Se $ K = M + N $, então $ K[i,j] = M[i,j] + N[i,j] $ para cada par de $ (i,j) $.\n",
    "\n",
    "Vamos encontrar $K$ usando Python."
   ]
  },
  {
   "cell_type": "code",
   "execution_count": 41,
   "id": "cfcdef4f-2ada-4062-85fe-718790a8c405",
   "metadata": {},
   "outputs": [
    {
     "name": "stdout",
     "output_type": "stream",
     "text": [
      "M= [[8, 0, -1, 0, 2], [-2, -3, 1, 1, 4], [0, 0, 1, -7, 1], [1, 4, -2, 5, 9]]\n",
      "N= [[-16, 0, 2, 0, -4], [4, 6, -2, -2, -8], [0, 0, -2, 14, -2], [-2, -8, 4, -10, -18]]\n",
      "K= [[-8, 0, 1, 0, -2], [2, 3, -1, -1, -4], [0, 0, -1, 7, -1], [-1, -4, 2, -5, -9]]\n"
     ]
    }
   ],
   "source": [
    "# cria uma lista vazia para a matriz de resultados\n",
    "K=[]\n",
    "\n",
    "for i in range(len(M)): # len(M) retorna o número de linhas em M\n",
    "    K.append([]) # criamos uma nova linha para K\n",
    "    for j in range(len(M[0])): # len(M[0]) retorna o número de colunas em M\n",
    "        K[i].append(M[i][j]+N[i][j]) # adicionamos novos elementos na i-ésima sublista/linha\n",
    "\n",
    "# imprime cada matriz em uma única linha\n",
    "print(\"M=\",M)\n",
    "print(\"N=\",N)\n",
    "print(\"K=\",K)"
   ]
  },
  {
   "cell_type": "markdown",
   "id": "d7f395bf-2cf0-4344-9a77-47e164b4ee1f",
   "metadata": {},
   "source": [
    "<b> Observação:</b>\n",
    "\n",
    "$K=N+M$. Definimos $N$ como $-2 M$. \n",
    "\n",
    "Assim, $K = N+M = -2M + M = -M$.\n",
    "\n",
    "Podemos ver que $K = -M$ observando os resultados do nosso programa."
   ]
  },
  {
   "cell_type": "markdown",
   "id": "93f01173-571f-4d6f-ac9d-3fe195e0fe13",
   "metadata": {},
   "source": [
    "<h3> Tarefa 1 </h3>\n",
    "\n",
    "Crie aleatoriamente matrizes $(3 \\times 4) $-dimensionais $A$ e $B$. \n",
    "\n",
    "As entradas podem ser escolhidas na lista $ \\{-5,\\ldots,5\\} $.\n",
    "\n",
    "Imprima as entradas de ambas as matrizes.\n",
    "\n",
    "Encontre a matriz $C = 3A - 2B$ e imprima suas entradas. (<i>Observe que $ 3A - 2B = 3A + (-2B) $</i>.)\n",
    "\n",
    "Verifique a exatidão de seus resultados."
   ]
  },
  {
   "cell_type": "markdown",
   "id": "b37a6302-c374-4342-9442-e54677f14e97",
   "metadata": {},
   "source": [
    "<h3>Resposta 1</h3>"
   ]
  },
  {
   "cell_type": "code",
   "execution_count": 42,
   "id": "5ac07555-3f12-4874-b9bd-4d9096561461",
   "metadata": {},
   "outputs": [
    {
     "name": "stdout",
     "output_type": "stream",
     "text": [
      "A é [[1, -3, -3, -1], [4, -3, 1, -3], [0, 4, 3, -2]]\n",
      "B é [[3, -2, 5, 1], [2, -1, 5, 5], [4, 5, 1, 2]]\n",
      "C é 3A - 2B\n",
      "C é [[-3, -5, -19, -5], [8, -7, -7, -19], [-8, 2, 7, -10]]\n"
     ]
    }
   ],
   "source": [
    "from random import randrange\n",
    "\n",
    "A = []\n",
    "B = []\n",
    "\n",
    "for i in range(3):\n",
    "    A.append([])\n",
    "    B.append([])\n",
    "    for j in range(4):\n",
    "        A[i].append(randrange(-5,6))\n",
    "        B[i].append(randrange(-5,6))\n",
    "\n",
    "print(\"A é\",A)\n",
    "print(\"B é\",B)\n",
    "\n",
    "C = []\n",
    "\n",
    "for i in range(3):\n",
    "    C.append([])\n",
    "    for j in range(4):\n",
    "        C[i].append( 3*A[i][j]-2*B[i][j])\n",
    "\n",
    "print(\"C é 3A - 2B\")\n",
    "print(\"C é\",C)"
   ]
  },
  {
   "cell_type": "markdown",
   "id": "b7ecc4e8-df83-40d6-bc2f-d60bfc7a7df8",
   "metadata": {},
   "source": [
    "<h3> Transposta de uma matriz</h3>\n",
    "\n",
    "A transposta de uma matriz é obtida pela troca de linhas e colunas. \n",
    "\n",
    "Por exemplo, a segunda linha torna-se a nova segunda coluna e a terceira coluna torna-se a nova terceira linha.\n",
    "\n",
    "A transposta de uma matriz $M$ é denotada por $M^T$.\n",
    "\n",
    "Aqui damos dois exemplos.\n",
    "\n",
    "$$\n",
    "M = \\begin{pmatrix} -2 & 3 & 0 & 4\\\\ -1 & 1 & 5 & 9 \\end{pmatrix} \\Rightarrow M^T = \\begin{pmatrix} -2 & -1 \\\\ 3 & 1 \\\\ 0 & 5 \\\\ 4 & 9 \\end{pmatrix}\\ \\mbox{e}\\ N = \\begin{pmatrix} 1 & 2 & 3 \\\\ 4 & 5 & 6 \\\\ 7 & 8 & 9 \\end{pmatrix} \\Rightarrow N^T = \\begin{pmatrix} 1 & 4 & 7 \\\\ 2 & 5 & 8 \\\\ 3 & 6 & 9 \\end{pmatrix}.\n",
    "$$\n",
    "\n",
    "Ou seja, $ M[i,j] = M^T[j,i] $ e $ N[i,j] = N^T[j,i] $. (Os índices são trocados.)"
   ]
  },
  {
   "cell_type": "markdown",
   "id": "4afa8ec6-8f28-443e-bd46-ba9b0ba6b0ee",
   "metadata": {},
   "source": [
    "<h3> Tarefa 2 </h3>\n",
    "\n",
    "Encontre $M^T$ e $N^T$ usando python.\n",
    "\n",
    "Imprima todas as matrizes e verifique a exatidão do seu resultado."
   ]
  },
  {
   "cell_type": "markdown",
   "id": "717eacde-d841-435e-b347-d439a632aafd",
   "metadata": {},
   "source": [
    "<h3>Resposta 2</h3>"
   ]
  },
  {
   "cell_type": "code",
   "execution_count": 43,
   "id": "bae7fa2e-87a4-4538-983b-2f4ad327abcf",
   "metadata": {},
   "outputs": [
    {
     "name": "stdout",
     "output_type": "stream",
     "text": [
      "M é\n",
      "[-2, 3, 0, 4]\n",
      "[-1, 1, 5, 9]\n",
      "\n",
      "A transposta de M é\n",
      "[-2, -1]\n",
      "[3, 1]\n",
      "[0, 5]\n",
      "[4, 9]\n",
      "\n",
      "N é\n",
      "[1, 2, 3]\n",
      "[4, 5, 6]\n",
      "[7, 8, 9]\n",
      "\n",
      "A transposta de N é\n",
      "[1, 4, 7]\n",
      "[2, 5, 8]\n",
      "[3, 6, 9]\n"
     ]
    }
   ],
   "source": [
    "M = [\n",
    "    [-2,3,0,4],\n",
    "    [-1,1,5,9]      \n",
    "]\n",
    "N =[\n",
    "    [1,2,3],\n",
    "    [4,5,6],\n",
    "    [7,8,9]\n",
    "]\n",
    "\n",
    "# criamos a transposta de M como uma matriz zero\n",
    "# sua dimensão é (4x2)\n",
    "MT = []\n",
    "for i in range(4):\n",
    "    MT.append([])\n",
    "    for j in range(2):\n",
    "        MT[i].append(0)\n",
    "\n",
    "# criamos a transposta de N como uma matriz zero\n",
    "# sua dimensão é (3x3)\n",
    "NT = []\n",
    "for i in range(3):\n",
    "    NT.append([])\n",
    "    for j in range(3):\n",
    "        NT[i].append(0)\n",
    "\n",
    "# calcular o M^T\n",
    "for i in range(2):\n",
    "    for j in range(4):\n",
    "        MT[j][i]=M[i][j] # verifique os índices\n",
    "\n",
    "print(\"M é\")\n",
    "for i in range(len(M)):\n",
    "    print(M[i])\n",
    "\n",
    "print()\n",
    "print(\"A transposta de M é\")\n",
    "for i in range(len(MT)):\n",
    "    print(MT[i])\n",
    "\n",
    "print()\n",
    "# calcular o N^T\n",
    "for i in range(3):\n",
    "    for j in range(3):\n",
    "        NT[j][i]=N[i][j] # verifique os índices\n",
    "\n",
    "print(\"N é\")\n",
    "for i in range(len(N)):\n",
    "    print(N[i])\n",
    "\n",
    "print()\n",
    "print(\"A transposta de N é\")\n",
    "for i in range(len(NT)):\n",
    "    print(NT[i])"
   ]
  },
  {
   "cell_type": "markdown",
   "id": "e68854f0-b2c3-4175-9e11-56af441766db",
   "metadata": {},
   "source": [
    "<h3> Multiplicação de uma matriz por um vetor </h3>\n",
    "\n",
    "Definimos uma matriz $M$ e um vetor coluna $v$:\n",
    "\n",
    "$$\n",
    "M = \\begin{pmatrix} -1 & 0 & 1 \\\\ -2 & -3 & 4 \\\\ 1 & 5 & 6 \\end{pmatrix}\\ \\mbox{e}\\ v = \\begin{pmatrix} 1 \\\\ -3 \\\\ 2 \\end{pmatrix}.\n",
    "$$\n",
    "\n",
    "A multiplicação de $M v$ é um novo vetor $u$ mostrado como $u = M v$:\n",
    "<ul>\n",
    "    <li> A primeira entrada de $u$ é o produto escalar da primeira linha de $M$ e $v$.</li>\n",
    "    <li> A segunda entrada de $ u $ é o produto escalar da segunda linha de $ M$ e $ v $.</li>\n",
    "    <li> A terceira entrada de $u$ é o produto escalar da terceira linha de $M$ e $v$. </li>\n",
    "</ul>\n",
    "\n",
    "Fazemos os cálculos usando Python."
   ]
  },
  {
   "cell_type": "code",
   "execution_count": 44,
   "id": "b02e541a-8490-4f82-8d72-34a8e162138f",
   "metadata": {},
   "outputs": [
    {
     "name": "stdout",
     "output_type": "stream",
     "text": [
      "M é\n",
      "[-1, 0, 1]\n",
      "[-2, -3, 4]\n",
      "[1, 5, 6]\n",
      "\n",
      "v = [1, -3, 2]\n",
      "\n",
      "u = [1, 15, -2]\n"
     ]
    }
   ],
   "source": [
    "# matriz M\n",
    "M = [\n",
    "    [-1,0,1],\n",
    "    [-2,-3,4],\n",
    "    [1,5,6]\n",
    "]\n",
    "\n",
    "# vetor v\n",
    "v = [1,-3,2]\n",
    "\n",
    "# o vetor resultante u\n",
    "u = []\n",
    "\n",
    "# para cada linha, fazemos um produto interno\n",
    "for i in range(3):\n",
    "    # produto interno para uma linha é iniciado\n",
    "    resultado_produto = 0 # esta variável mantém a soma das multiplicações dos pares\n",
    "    for j in range(3): # os elementos da i-ésima linha\n",
    "        resultado_produto = resultado_produto + M[i][j] * v[j]\n",
    "    # produto interno de uma linha está concluído\n",
    "    u.append(resultado_produto)\n",
    "\n",
    "print(\"M é\")\n",
    "for i in range(len(M)):\n",
    "    print(M[i])\n",
    "print()\n",
    "print(\"v =\",v)\n",
    "print()\n",
    "print(\"u =\",u)"
   ]
  },
  {
   "cell_type": "markdown",
   "id": "ec72f1ae-164a-48a9-9a77-2195ec22e24f",
   "metadata": {},
   "source": [
    "Verificamos os cálculos:\n",
    "\n",
    "$$\n",
    "\\mbox{Primeira linha:} \\begin{pmatrix} -1 \\\\ 0 \\\\ 1 \\end{pmatrix} \\cdot \\begin{pmatrix} 1 \\\\ -3 \\\\ 2 \\end{pmatrix} = (-1) \\cdot 1 + 0 \\cdot ( -3) + 1 \\cdot 2 = -1 + 0 + 2 = 1.\n",
    "$$\n",
    "\n",
    "$$\n",
    "\\mbox{Segunda linha:} \\begin{pmatrix} -2 \\\\ -3 \\\\ 4 \\end{pmatrix} \\cdot \\begin{pmatrix} 1 \\\\ -3 \\\\ 2 \\end{pmatrix} = (-2) \\cdot 1 + (-3 ) \\cdot (-3) + 4 \\cdot 2 = -2 + 9 + 8 = 15.\n",
    "$$\n",
    "\n",
    "$$\n",
    "\\mbox{Terceira linha:} \\begin{pmatrix} 1 \\\\ 5 \\\\ 6 \\end{pmatrix} \\cdot \\begin{pmatrix} 1 \\\\ -3 \\\\ 2 \\end{pmatrix} = 1 \\cdot 1 + 5 \\cdot (-3) + 6 \\cdot 2 = 1 - 15 + 12 = -2.\n",
    "$$\n",
    "\n",
    "Então,\n",
    "$$\n",
    "u = \\begin{pmatrix} 1 \\\\ 15 \\\\ -2 \\end{pmatrix}.\n",
    "$$"
   ]
  },
  {
   "cell_type": "markdown",
   "id": "7c55178c-8068-4882-832e-715e80871e03",
   "metadata": {},
   "source": [
    "<b>Observações:</b> \n",
    "<ul>\n",
    "    <li> A dimensão da linha de $M$ é igual à dimensão de $v$. Caso contrário, o produto interno não será definido.</li>\n",
    "    <li> A dimensão do vetor resultado é o número de linhas em $ M $, pois temos o produto escalar para cada linha de $ M $. </li>\n",
    "</ul>"
   ]
  },
  {
   "cell_type": "markdown",
   "id": "c8d47258-5334-4dca-a876-98e335f42afd",
   "metadata": {},
   "source": [
    "<h3> Tarefa 3 </h3>\r\n",
    "\r\n",
    "Encontre $ u' = N u $ usandP python para a seguinte matriz $ N $ e vetor coluna $ u $:\n",
    "\n",
    "$$\n",
    "N = \\begin{pmatrix} -1 & 1 & 2 \\\\ 0 & -2 & -3 \\\\ 3 & 2 & 5 \\\\ 0 & 2 & -2 \\end{pmatrix}\\ \\mbox{e}\\ u = \\begin{pmatrix} 2 \\\\ -1 \\\\ 3 \\end{pmatrix}.\n",
    "$$"
   ]
  },
  {
   "cell_type": "markdown",
   "id": "d10a7073-783d-441b-bcda-88dbdd610484",
   "metadata": {},
   "source": [
    "<h3>Resposta 3</h3>"
   ]
  },
  {
   "cell_type": "code",
   "execution_count": 45,
   "id": "22089b2f-1839-433f-ac7f-314e1c7823d7",
   "metadata": {},
   "outputs": [
    {
     "name": "stdout",
     "output_type": "stream",
     "text": [
      "N é\n",
      "[-1, 1, 2]\n",
      "[0, -2, -3]\n",
      "[3, 2, 5]\n",
      "[0, 2, -2]\n",
      "\n",
      "u é [2, -1, 3]\n",
      "\n",
      "u' é [3, -7, 19, -8]\n"
     ]
    }
   ],
   "source": [
    "N = [\n",
    "    [-1,1,2],\n",
    "    [0,-2,-3],\n",
    "    [3,2,5],\n",
    "    [0,2,-2]\n",
    "]\n",
    "\n",
    "u = [2,-1,3]\n",
    "\n",
    "u_linha =[]\n",
    "\n",
    "print(\"N é\")\n",
    "for i in range(len(N)):\n",
    "    print(N[i])\n",
    "\n",
    "print()\n",
    "print(\"u é\",u)\n",
    "\n",
    "for i in range(len(N)): # o número de linhas de N\n",
    "    S = 0 # somatório de multiplicações dos pares\n",
    "    for j in range(len(u)): # dimensão de u\n",
    "        S = S + N[i][j] * u[j]\n",
    "    u_linha.append(S)\n",
    "\n",
    "print()\n",
    "print(\"u' é\",u_linha)    "
   ]
  },
  {
   "cell_type": "markdown",
   "id": "1a4ce9f8-4767-4e6a-bcb6-fe92c21b3a31",
   "metadata": {},
   "source": [
    "<h3> Multiplicação de duas matrizes </h3>\n",
    "\n",
    "Esta é apenas a generalização do procedimento dado acima.\n",
    "\n",
    "Encontramos a matriz $ K = M N $ para determinadas matrizes\n",
    "$\n",
    "M = \\begin{pmatrix} -1 & 0 & 1 \\\\ -2 & -1 & 2 \\\\ 1 & 2 & -2 \\end{pmatrix}\\ \\mbox{e}\\ N = \\begin{pmatrix} 0 & 2 & 1 \\\\ 3 & -1 & -2 \\\\ -1 & 1 & 0 \\end{pmatrix}.\n",
    "$"
   ]
  },
  {
   "cell_type": "markdown",
   "id": "0fef04be-aced-4a9a-821a-48da2983ae0b",
   "metadata": {},
   "source": [
    "Observe que a matriz $ N $ tem três colunas: $ v_1 = \\begin{pmatrix} 0 \\\\ 3 \\\\ -1 \\end{pmatrix}$, $ v_2 = \\begin{pmatrix} 2 \\\\ -1 \\\\ 1 \\end{pmatrix}$ e $ v_3 = \\begin{pmatrix} 1 \\\\ -2 \\\\ 0 \\end{pmatrix}$.\r\n",
    "\r\n",
    "Sabemos como calcular $ v_1' = M v_1 $. \r\n",
    "\r\n",
    "Da mesma forma, podemos calcular $ v_2' = M v_2 $ e $ v_3' = M v_3 $E que esses novos vetores coluna ($v_1'$, $v_2'$ e $v_3'$) são as colunas da matriz de resultado $K$. \r\n",
    "\r\n",
    "O produto escalar da i-ésima linha de $ M $ e $ j $-ésima coluna de $ N $ fornece a $(i,j)$-ésima entrada de $ K $."
   ]
  },
  {
   "cell_type": "markdown",
   "id": "7f611f8d-a682-42d6-a998-de7086b7f380",
   "metadata": {},
   "source": [
    "<h3> Tarefa 4 </h3>\n",
    "\n",
    "Encontre a matriz $K$.\n",
    " \n",
    "Esta é uma tarefa desafiadora. Você pode usar loops \"for\" triplos. \n",
    "\n",
    "Você também pode considerar escrever uma função pegando duas listas e retornando seu produto escalar."
   ]
  },
  {
   "cell_type": "markdown",
   "id": "35c430a3-2b1e-4de6-ab81-07f7ef38a574",
   "metadata": {},
   "source": [
    "<h3>Resposta 4</h3>"
   ]
  },
  {
   "cell_type": "code",
   "execution_count": 46,
   "id": "d5aeba95-1dbd-40bf-b6d7-09f63a4a324a",
   "metadata": {},
   "outputs": [
    {
     "name": "stdout",
     "output_type": "stream",
     "text": [
      "M é\n",
      "[-1, 0, 1]\n",
      "[-2, -1, 2]\n",
      "[1, 2, -2]\n",
      "\n",
      "N é\n",
      "[0, 2, 1]\n",
      "[3, -1, -2]\n",
      "[-1, 1, 0]\n",
      "\n",
      "K é\n",
      "[-1, -1, -1]\n",
      "[-5, -1, 0]\n",
      "[8, -2, -3]\n"
     ]
    }
   ],
   "source": [
    "# matriz M\n",
    "M = [\n",
    "    [-1,0,1],\n",
    "    [-2,-1,2],\n",
    "    [1,2,-2]\n",
    "]\n",
    "\n",
    "# matriz N\n",
    "N = [\n",
    "    [0,2,1],\n",
    "    [3,-1,-2],\n",
    "    [-1,1,0]\n",
    "]\n",
    "\n",
    "# matriz K\n",
    "K = []\n",
    "\n",
    "for i in range(3):\n",
    "    K.append([])\n",
    "    for j in range(3):\n",
    "        # aqui calculamos K[i][j]\n",
    "        # produto interno da i-ésima linha de M com a j-ésima linha de N\n",
    "        S = 0\n",
    "        for k in range(3):\n",
    "            S = S + M[i][k] * N[k][j]\n",
    "        K[i].append(S)\n",
    "        \n",
    "print(\"M é\")\n",
    "for i in range(len(M)):\n",
    "    print(M[i])\n",
    "    \n",
    "print()\n",
    "print(\"N é\")\n",
    "for i in range(len(N)):\n",
    "    print(N[i])\n",
    "\n",
    "print()\n",
    "print(\"K é\")\n",
    "for i in range(len(K)):\n",
    "    print(K[i])"
   ]
  },
  {
   "cell_type": "markdown",
   "id": "e2a1dd2b-878e-44b9-ae34-4be7c9adcd9f",
   "metadata": {},
   "source": [
    "<h3> $AB = BA$? </h3>\r\n",
    "\r\n",
    "É um fato bem conhecido que a ordem dos números não importa na multiplicação.\r\n",
    "\r\n",
    "Por exemplo, $(-3) \\cdot 4 = 4 \\cdot (-3) $.\r\n",
    "\r\n",
    "Isso também é verdade para matrizes? Para quaisquer duas matrizes $A$ e $B$, $A B = B A$?\r\n",
    "\r\n",
    "Existem alguns exemplos de $A$ e $B$ tais que $AB = BA$.\r\n",
    "\r\n",
    "Mas isto não é verdade em geral e, portanto, esta afirmação é falsa. \r\n",
    "\r\n",
    "Podemos falsificar esta afirmação encontrando um contra-exemplo.\r\n",
    "\r\n",
    "Escrevemos um programa usando uma estratégia probabilística. \r\n",
    "\r\n",
    "A ideia é a seguinte: Encontre aleatoriamente duas matrizes de exemplo $A$ e $B$ tais que $AB \\neq BA$.\r\n",
    "\r\n",
    "Observe que se $AB = BA$, então $AB - BA$ é uma matriz zero."
   ]
  },
  {
   "cell_type": "markdown",
   "id": "67df6dc1-f0db-4795-b38c-60b4f7bb539b",
   "metadata": {},
   "source": [
    "<h3> Tarefa 5 </h3>\n",
    "\n",
    "Defina aleatoriamente duas matrizes $(2 \\times 2) $-dimensionais $A$ e $B$. \n",
    "\n",
    "Então, encontre $C=AB-BA$. Se $C$ não for uma matriz zero, então terminamos.\n",
    "\n",
    "<i>Observação: Com alguma sorte, podemos encontrar um par de $(A,B)$ tal que $AB = BA$. \n",
    "    \n",
    "Neste caso, repita sua experiência. </i>"
   ]
  },
  {
   "cell_type": "code",
   "execution_count": 47,
   "id": "c954404d-e98e-41f2-ae54-96dfb99dfefd",
   "metadata": {},
   "outputs": [
    {
     "name": "stdout",
     "output_type": "stream",
     "text": [
      "A = [[-8, 2], [2, 1]]\n",
      "B = [[-2, 3], [-5, 6]]\n",
      "\n",
      "AB, BA, e DIFF são inicialmente matrizes zeradas\n",
      "AB = [[0, 0], [0, 0]]\n",
      "BA = [[0, 0], [0, 0]]\n",
      "DIFF = [[0, 0], [0, 0]]\n",
      "\n",
      "AB = [[6, -12], [-9, 12]]\n",
      "BA = [[22, -1], [52, -4]]\n",
      "\n",
      "DIFF = AB - BA = [[-16, -11], [-61, 16]]\n"
     ]
    }
   ],
   "source": [
    "from random import randrange\n",
    "\n",
    "A = []\n",
    "B = []\n",
    "AB = []\n",
    "BA = []\n",
    "DIFF = []\n",
    "\n",
    "# cria A, B, AB, BA, DIFF juntos\n",
    "for i in range(2):\n",
    "    A.append([])\n",
    "    B.append([])\n",
    "    AB.append([])\n",
    "    BA.append([])\n",
    "    DIFF.append([])\n",
    "    for j in range(2):\n",
    "        A[i].append(randrange(-10,10)) # os elementos de A são aleatórios\n",
    "        B[i].append(randrange(-10,10)) # os elementos de B são aleatórios\n",
    "        AB[i].append(0) # os elementos de AB são inicialmente definidos como zeros\n",
    "        BA[i].append(0) # os elementos de BA são inicialmente definidos como zeros\n",
    "        DIFF[i].append(0) # os elementos de DIFF são inicialmente definidos como zeros\n",
    "\n",
    "print(\"A =\",A)\n",
    "print(\"B =\",B)\n",
    "print()\n",
    "print(\"AB, BA, e DIFF são inicialmente matrizes zeradas\")\n",
    "print(\"AB =\",AB)\n",
    "print(\"BA =\",BA)\n",
    "print(\"DIFF =\",BA)\n",
    "\n",
    "# vamos encontrar AB\n",
    "for i in range(2):\n",
    "    for j in range(2):\n",
    "        # observe que AB[i][j] já é 0 e, portanto, podemos adicionar diretamente todas as multiplicações dos pares\n",
    "        for k in range(2):\n",
    "            AB[i][j] = AB[i][j] + A[i][k] * B[k][j] # cada multiplicação é adicionada\n",
    "\n",
    "print()\n",
    "print(\"AB =\",AB)\n",
    "\n",
    "# vamos encontrar BA\n",
    "for i in range(2):\n",
    "    for j in range(2):\n",
    "        # observe que BA[i][j] já é 0 e, portanto, podemos adicionar diretamente todas as multiplicações dos pares\n",
    "        for k in range(2):\n",
    "            BA[i][j] = BA[i][j] + B[i][k] * A[k][j] # cada multiplicação é adicionada\n",
    "\n",
    "print(\"BA =\",BA)\n",
    "\n",
    "# vamos encontrar DIFF = AB - BA\n",
    "for i in range(2):\n",
    "    for j in range(2):\n",
    "        DIFF[i][j] = AB[i][j] - BA[i][j]\n",
    "\n",
    "print()\n",
    "print(\"DIFF = AB - BA =\",DIFF)        "
   ]
  }
 ],
 "metadata": {
  "kernelspec": {
   "display_name": "Python 3 (ipykernel)",
   "language": "python",
   "name": "python3"
  },
  "language_info": {
   "codemirror_mode": {
    "name": "ipython",
    "version": 3
   },
   "file_extension": ".py",
   "mimetype": "text/x-python",
   "name": "python",
   "nbconvert_exporter": "python",
   "pygments_lexer": "ipython3",
   "version": "3.11.7"
  }
 },
 "nbformat": 4,
 "nbformat_minor": 5
}
