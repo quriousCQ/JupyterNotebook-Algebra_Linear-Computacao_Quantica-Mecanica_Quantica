{
 "cells": [
  {
   "cell_type": "markdown",
   "id": "b8dc9604-a396-42a1-97c2-05730d58a1ec",
   "metadata": {},
   "source": [
    "<h1 align=\"left\" style=\"color:#3149b5;\"> QURIOUS - COMPUTAÇÃO QUÂNTICA </h1>\n",
    "<h2 align=\"left\" style=\"color:#3149b5;\"> Álgebra Linear para Computação Quântica e Mecânica Quântica </h2>\n",
    "<h3 align=\"left\" style=\"color:#000000;\"> Por Lucas Gregolon e Suzielli Martins Mendonça, com base no trabalho de QWorld e IBM. </h3>\n",
    "<h4 <a href=\"https://qworld.net/qbook101/\"></a> https://qworld.net/qbook101/ e https://docs.quantum.ibm.com/guides/hello-world </h4>"
   ]
  },
  {
   "cell_type": "markdown",
   "id": "59e8a364-9238-4471-bd96-57870a4c292e",
   "metadata": {},
   "source": [
    "<font style=\"font-size:28px;\" align=\"left\"><b>Um Jogo com Duas Moedas Viciadas</b></font>\n",
    "<br>"
   ]
  },
  {
   "cell_type": "markdown",
   "id": "d5527ad4-0951-4221-a46f-f9e4554def38",
   "metadata": {},
   "source": [
    "## Bits probabilísticos\n",
    "\n",
    "Começamos com uma breve introdução às partes probabilísticas para traçar os detalhes do jogo abaixo.\n",
    "\n",
    "Suponha que temos uma moeda viciada caindo em cara com probabilidade de $ 0,3 $, e ela é lançada uma vez, mas não vemos o resultado.\n",
    "\n",
    "Mesmo que dê cara ou coroa, nossa informação sobre o resultado é probabilística: é cara com probabilidade de $ 0,3 $ e coroa com probabilidade de $ 0,7 $. \n",
    "\n",
    "Se considerarmos esta moeda como um sistema com dois estados (cara e coroa: respectivamente, estados 0 e 1), então podemos dizer que após uma iteração ela está nos estados 0 e 1 com probabilidades de 0,3 e 0,7, respectivamente.\n",
    "\n",
    "Em geral, um bit probabilístico está nos estados 0 e 1 com probabilidades $p$ e $1-p$, onde $p$ é um número entre 0 e 1. Observe que se $p=1$ ou $p=0$ , então o bit se torna determinístico.\n",
    "\n",
    "Se a moeda viciada acima for lançada mais uma vez, as probabilidades de obter cara e coroa (ou estar nos estados 0 e 1) ainda serão as mesmas. No jogo a seguir, utilizando duas moedas viciadas, poderemos ter probabilidades diferentes para os estados 0 e 1. Este jogo é o nosso primeiro passo para definir um operador probabilístico para bits probabilísticos."
   ]
  },
  {
   "cell_type": "markdown",
   "id": "23022787-2236-4e19-bed5-26c70441c778",
   "metadata": {},
   "source": [
    "A nossa amiga Ana tem um Real e um centavo. \n",
    "\n",
    "Ambas as moedas são tendenciosas e as probabilidades de obter cara e coroa são as seguintes:\n",
    "<ul>\n",
    "    <li> um Real: cara com probabilidade $ 0,6 $ e coroa com probabilidade $ 0,4 $. </li>\n",
    "    <li> um centavo: cara com probabilidade $ 0,3 $ e coroa com probabilidade $ 0,7 $. </li>\n",
    "</ul>\n",
    "\n",
    "Ana joga suas moedas com base no seguinte <b>protocolo</b>: \n",
    "<ol> \n",
    "    <li> ela começa lançando um Real[*]; </li>\n",
    "    <li> sempre que obtiver cara, lançará um Real na rodada seguinte; e, </li>\n",
    "    <li> sempre que obtiver coroa, lançará um centavo na próxima rodada. </li>\n",
    "</ol>\n",
    "\n",
    "Usando um único bit, resumimos todas as transições deste jogo da seguinte forma:\n",
    "\n",
    "$\n",
    "JogoMoedas = \\begin{array}{c|cc} \\hookleftarrow & \\mathbf{Cara} & \\mathbf{Coroa} \\\\ \\hline \\mathbf{Cara} & 0,6 & 0,3\\\\  \\mathbf{Coroa} & 0,4 & 0,7  \\end{array} = \\begin{array}{c|cc} \\hookleftarrow & \\mathbf{0} & \\mathbf{1} \\\\ \\hline \\mathbf{0} & 0,6 & 0,3 \\\\  \\mathbf{1} & 0,4 & 0,7  \\end{array}\n",
    "$\n",
    "\n",
    "[*] Devemos fixar uma condição inicial. Caso contrário, Ana não poderá escolher nenhuma das moedas no início do jogo."
   ]
  },
  {
   "cell_type": "markdown",
   "id": "6875f3f6-bd54-4ee9-aed7-786d48566e98",
   "metadata": {},
   "source": [
    "<h3>Tarefa 1: Convença-se </h3>\n",
    "\n",
    "Convença-se da exatidão das transições fornecidas na tabela.\n",
    "\n",
    "<i> Observe que não há diferença entre obter cara na moeda de um euro ou na moeda de um centavo.\n",
    "    \n",
    "Portanto, um bit é suficiente para representar todas as transições.\n",
    "</i>"
   ]
  },
  {
   "cell_type": "markdown",
   "id": "26bb88be-22b9-43d6-949f-973ff384fdfc",
   "metadata": {},
   "source": [
    "<h3> Rastreando os três lançamentos de moeda de Ana </h3>\n",
    "\n",
    "Suponha que Ana lance suas moedas <b>secretamente</b> com base no protocolo definido.\n",
    "\n",
    "Usando Python, podemos calcular as probabilidades de Ana ver cara e coroa após três lançamentos de moeda.\n",
    "\n",
    "<i><b>Observação:</b> Nas tarefas anteriores de [Lançamento de moeda: teoria](Sistemas-Classicos_Lancamento-Moeda.ipynb), conhecemos as proporções ideais e experimentamos alguns lançamentos de moeda, e esperamos observar os resultados próximos das proporções ideais.\n",
    "    \n",
    "Aqui calculamos as probabilidades exatas (a proporção ideal) usando Python. (Não faremos os experimentos como nas tarefas anteriores.)\n",
    "</i>\n",
    "\n",
    "Apresentamos nossa solução passo a passo."
   ]
  },
  {
   "cell_type": "code",
   "execution_count": 3,
   "id": "047f7a31-8447-446a-8f42-83ff3c28c109",
   "metadata": {},
   "outputs": [
    {
     "name": "stdout",
     "output_type": "stream",
     "text": [
      "a probabilidade de obter cara após 3 lançamentos de moeda é 0.44399999999999995\n",
      "a probabilidade de obter coroa após 3 lançamentos de moeda é 0.556\n"
     ]
    }
   ],
   "source": [
    "# condição inicial:\n",
    "# Ana começará com um Real,\n",
    "# e assim, assumimos que a probabilidade de ter cara é 1 no início.\n",
    "prob_cara = 1\n",
    "prob_coroa = 0\n",
    "\n",
    "# primeiro lançamento de moeda\n",
    "\n",
    "# a nova probabilidade de cara é calculada usando a primeira linha da tabela\n",
    "nova_prob_cara = prob_cara * 0.6 + prob_coroa * 0.3\n",
    "\n",
    "# a nova probabilidade de coroa é calculada usando a segunda linha da tabela\n",
    "nova_prob_coroa = prob_cara * 0.4 + prob_coroa * 0.7\n",
    "\n",
    "# atualiza-se as probabilidades para a segunda rodada\n",
    "prob_cara = nova_prob_cara\n",
    "prob_coroa = nova_prob_coroa\n",
    "\n",
    "# segundo lançamento de moeda\n",
    "\n",
    "# fazemos os mesmos cálculos\n",
    "\n",
    "nova_prob_cara = prob_cara * 0.6 + prob_coroa * 0.3\n",
    "nova_prob_coroa = prob_cara * 0.4 + prob_coroa * 0.7\n",
    "\n",
    "prob_cara = nova_prob_cara\n",
    "prob_coroa = nova_prob_coroa\n",
    "\n",
    "# terceiro lançamento de moeda\n",
    "\n",
    "# fazemos os mesmos cálculos\n",
    "\n",
    "nova_prob_cara = prob_cara * 0.6 + prob_coroa * 0.3\n",
    "nova_prob_coroa = prob_cara * 0.4 + prob_coroa * 0.7\n",
    "\n",
    "prob_cara = nova_prob_cara\n",
    "prob_coroa = nova_prob_coroa\n",
    "\n",
    "# imprimir prob_cara e prob_coroa\n",
    "print(\"a probabilidade de obter cara após 3 lançamentos de moeda é\",prob_cara)\n",
    "print(\"a probabilidade de obter coroa após 3 lançamentos de moeda é\",prob_coroa)"
   ]
  },
  {
   "cell_type": "markdown",
   "id": "43d171a5-aca9-4ebd-b5bb-c91ecc8b3e04",
   "metadata": {},
   "source": [
    "<h3> Tarefa 2: Rastreando dez lançamentos de moeda tendenciosos </h3>\n",
    "\n",
    "Usando Python, calcule as probabilidades de Ana ver cara e coroa após 10 lançamentos.\n",
    "\n",
    "$\n",
    "JogoMoedas = \\begin{array}{c|cc} \\hookleftarrow & \\mathbf{Cara} & \\mathbf{Coroa} \\\\ \\hline \\mathbf{Cara} & 0,6 & 0,3\\\\  \\mathbf{Coroa} & 0,4 & 0,7  \\end{array} = \\begin{array}{c|cc} \\hookleftarrow & \\mathbf{0} & \\mathbf{1} \\\\ \\hline \\mathbf{0} & 0,6 & 0,3 \\\\  \\mathbf{1} & 0,4 & 0,7  \\end{array}\n",
    "$\n",
    "\n",
    "Use um loop em sua solução."
   ]
  },
  {
   "cell_type": "markdown",
   "id": "73a4d1c4-1939-4a77-8e34-1f87b8c2f463",
   "metadata": {},
   "source": [
    "<h3>Resposta 2</h3>"
   ]
  },
  {
   "cell_type": "code",
   "execution_count": 5,
   "id": "a2cf2d82-a750-4c72-bf1f-b1d90c378c83",
   "metadata": {},
   "outputs": [
    {
     "name": "stdout",
     "output_type": "stream",
     "text": [
      "a probabilidade de obter cara após 3 lançamentos de moeda é 0.42857480279999977\n",
      "a probabilidade de obter coroa após 3 lançamentos de moeda é 0.5714251971999997\n"
     ]
    }
   ],
   "source": [
    "# copiamos e colamos o código anterior\n",
    "\n",
    "# condição inicial:\n",
    "# Ana começará com um Real,\n",
    "# e assim, assumimos que a probabilidade de ter cara é 1 no início.\n",
    "prob_cara = 1\n",
    "prob_coroa = 0\n",
    "\n",
    "numero_iteracoes = 10\n",
    "\n",
    "for i in range(numero_iteracoes):\n",
    "    # a nova probabilidade de cara é calculada usando a primeira linha da tabela\n",
    "    nova_prob_cara = prob_cara * 0.6 + prob_coroa * 0.3\n",
    "\n",
    "    # a nova probabilidade de coroa é calculada usando a segunda linha da tabela\n",
    "    nova_prob_coroa = prob_cara * 0.4 + prob_coroa * 0.7\n",
    "\n",
    "    # atualiza-se as probabilidades\n",
    "    prob_cara = nova_prob_cara\n",
    "    prob_coroa = nova_prob_coroa\n",
    "\n",
    "# imprimir prob_cara e prob_coroa\n",
    "print(\"a probabilidade de obter cara após 3 lançamentos de moeda é\",prob_cara)\n",
    "print(\"a probabilidade de obter coroa após 3 lançamentos de moeda é\",prob_coroa)"
   ]
  },
  {
   "cell_type": "markdown",
   "id": "334fe60b-2622-42b7-bec0-6963ca8b0af4",
   "metadata": {},
   "source": [
    "<h3> Tarefa 3</h3>\n",
    "\n",
    "Repita a Tarefa 2 para lançamentos de 20, 30 e 50 moedas."
   ]
  },
  {
   "cell_type": "markdown",
   "id": "aeaaeafa-56e4-410c-8acf-a00ed1734f15",
   "metadata": {},
   "source": [
    "<h3>Resposta 3</h3>"
   ]
  },
  {
   "cell_type": "code",
   "execution_count": 12,
   "id": "6689424f-b012-4be0-a776-f198804bea7c",
   "metadata": {},
   "outputs": [
    {
     "name": "stdout",
     "output_type": "stream",
     "text": [
      "o numero de iterações é 20\n",
      "a probabilidade de obter cara após 3 lançamentos de moeda é 0.42857142859135267\n",
      "a probabilidade de obter coroa após 3 lançamentos de moeda é 0.5714285714086464\n",
      "\n",
      "o numero de iterações é 30\n",
      "a probabilidade de obter cara após 3 lançamentos de moeda é 0.42857142857142816\n",
      "a probabilidade de obter coroa após 3 lançamentos de moeda é 0.5714285714285705\n",
      "\n",
      "o numero de iterações é 50\n",
      "a probabilidade de obter cara após 3 lançamentos de moeda é 0.42857142857142805\n",
      "a probabilidade de obter coroa após 3 lançamentos de moeda é 0.5714285714285706\n",
      "\n"
     ]
    }
   ],
   "source": [
    "# define-se as iterações como uma lista\n",
    "iteracoes = [20,30,50]\n",
    "\n",
    "for numero_iteracao in iteracoes:\n",
    "    \n",
    "    # condição inicial:\n",
    "    prob_cara = 1\n",
    "    prob_coroa = 0\n",
    "    \n",
    "    print(\"o numero de iterações é\",numero_iteracao)\n",
    "\n",
    "    for i in range(numero_iteracao):\n",
    "        # a nova probabilidade de cara é calculada usando a primeira linha da tabela\n",
    "        nova_prob_cara = prob_cara * 0.6 + prob_coroa * 0.3\n",
    "        \n",
    "        # a nova probabilidade de coroa é calculada usando a segunda linha da tabela\n",
    "        nova_prob_coroa = prob_cara * 0.4 + prob_coroa * 0.7\n",
    "        \n",
    "        # atualiza-se as probabilidades\n",
    "        prob_cara = nova_prob_cara\n",
    "        prob_coroa = nova_prob_coroa\n",
    "\n",
    "    # imprimir prob_cara e prob_coroa\n",
    "    print(\"a probabilidade de obter cara após 3 lançamentos de moeda é\",prob_cara)\n",
    "    print(\"a probabilidade de obter coroa após 3 lançamentos de moeda é\",prob_coroa)\n",
    "    print()"
   ]
  },
  {
   "cell_type": "markdown",
   "id": "3612413d-eba4-48bf-be01-9f50fbbe5c55",
   "metadata": {},
   "source": [
    "<h3> Tarefa 4</h3>\n",
    "\n",
    "Repita a Tarefa 2 para lançamentos de 10, 20 e 50 moedas, escolhendo diferentes condições iniciais, por exemplo,\n",
    "\n",
    "    prob_cara = prob_coroa = 1/2\n",
    "ou\n",
    "\n",
    "    prob_cara = 1\n",
    "    prob_coroa = 0"
   ]
  },
  {
   "cell_type": "markdown",
   "id": "2bf4fb76-0616-4168-81be-00f61e778888",
   "metadata": {},
   "source": [
    "<h3>Resposta 4</h3>"
   ]
  },
  {
   "cell_type": "code",
   "execution_count": 16,
   "id": "f67fd8d1-cbe4-4936-a3f4-f928815ff34b",
   "metadata": {},
   "outputs": [
    {
     "name": "stdout",
     "output_type": "stream",
     "text": [
      "probabilidade de cara é 0.5\n",
      "probabilidade de coroa é 0.5\n",
      "\n",
      "o numero de iterações é 20\n",
      "a probabilidade de obter cara após 3 lançamentos de moeda é 0.42857142857391883\n",
      "a probabilidade de obter coroa após 3 lançamentos de moeda é 0.5714285714260805\n",
      "\n",
      "o numero de iterações é 30\n",
      "a probabilidade de obter cara após 3 lançamentos de moeda é 0.42857142857142827\n",
      "a probabilidade de obter coroa após 3 lançamentos de moeda é 0.571428571428571\n",
      "\n",
      "o numero de iterações é 50\n",
      "a probabilidade de obter cara após 3 lançamentos de moeda é 0.42857142857142827\n",
      "a probabilidade de obter coroa após 3 lançamentos de moeda é 0.571428571428571\n",
      "\n",
      "\n",
      "probabilidade de cara é 0\n",
      "probabilidade de coroa é 1\n",
      "\n",
      "o numero de iterações é 20\n",
      "a probabilidade de obter cara após 3 lançamentos de moeda é 0.4285714285564849\n",
      "a probabilidade de obter coroa após 3 lançamentos de moeda é 0.5714285714435143\n",
      "\n",
      "o numero de iterações é 30\n",
      "a probabilidade de obter cara após 3 lançamentos de moeda é 0.42857142857142794\n",
      "a probabilidade de obter coroa após 3 lançamentos de moeda é 0.5714285714285708\n",
      "\n",
      "o numero de iterações é 50\n",
      "a probabilidade de obter cara após 3 lançamentos de moeda é 0.42857142857142794\n",
      "a probabilidade de obter coroa após 3 lançamentos de moeda é 0.5714285714285706\n",
      "\n",
      "\n"
     ]
    }
   ],
   "source": [
    "# define-se as iterações como uma lista\n",
    "iteracoes = [20,30,50]\n",
    "\n",
    "# define-se os pares de probabilidades iniciais como uma lista dupla\n",
    "probabilidades_iniciais =[    \n",
    "    [1/2,1/2],\n",
    "    [0,1]\n",
    "]\n",
    "\n",
    "for par_probabilidades_iniciais in probabilidades_iniciais: \n",
    "    print(\"probabilidade de cara é\",par_probabilidades_iniciais[0])\n",
    "    print(\"probabilidade de coroa é\",par_probabilidades_iniciais[1])\n",
    "    print()\n",
    "\n",
    "    for numero_iteracao in iteracoes:\n",
    "\n",
    "        # initial probabilites\n",
    "        [prob_cara,prob_coroa] = par_probabilidades_iniciais\n",
    "        \n",
    "        print(\"o numero de iterações é\",numero_iteracao)\n",
    "        \n",
    "        for i in range(numero_iteracao):\n",
    "            # a nova probabilidade de cara é calculada usando a primeira linha da tabela\n",
    "            nova_prob_cara = prob_cara * 0.6 + prob_coroa * 0.3\n",
    "            \n",
    "            # a nova probabilidade de coroa é calculada usando a segunda linha da tabela\n",
    "            nova_prob_coroa = prob_cara * 0.4 + prob_coroa * 0.7\n",
    "            \n",
    "            # atualiza-se as probabilidades\n",
    "            prob_cara = nova_prob_cara\n",
    "            prob_coroa = nova_prob_coroa\n",
    "\n",
    "        # imprimir prob_cara e prob_coroa\n",
    "        print(\"a probabilidade de obter cara após 3 lançamentos de moeda é\",prob_cara)\n",
    "        print(\"a probabilidade de obter coroa após 3 lançamentos de moeda é\",prob_coroa)\n",
    "        print()\n",
    "    print()"
   ]
  }
 ],
 "metadata": {
  "kernelspec": {
   "display_name": "Python 3 (ipykernel)",
   "language": "python",
   "name": "python3"
  },
  "language_info": {
   "codemirror_mode": {
    "name": "ipython",
    "version": 3
   },
   "file_extension": ".py",
   "mimetype": "text/x-python",
   "name": "python",
   "nbconvert_exporter": "python",
   "pygments_lexer": "ipython3",
   "version": "3.11.7"
  }
 },
 "nbformat": 4,
 "nbformat_minor": 5
}
