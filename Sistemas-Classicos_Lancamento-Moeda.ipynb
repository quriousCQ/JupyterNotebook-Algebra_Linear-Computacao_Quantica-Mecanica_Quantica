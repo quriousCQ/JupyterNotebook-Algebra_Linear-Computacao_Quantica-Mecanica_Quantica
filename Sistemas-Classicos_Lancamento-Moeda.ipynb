{
 "cells": [
  {
   "cell_type": "markdown",
   "id": "ad7798e2-6367-4c33-b8e3-dd453a7c6ea3",
   "metadata": {},
   "source": [
    "<h1 align=\"left\" style=\"color:#3149b5;\"> QURIOUS - COMPUTAÇÃO QUÂNTICA </h1>\n",
    "<h2 align=\"left\" style=\"color:#3149b5;\"> Álgebra Linear para Computação Quântica e Mecânica Quântica </h2>\n",
    "<h3 align=\"left\" style=\"color:#000000;\"> Por Lucas Gregolon e Suzielli Martins Mendonça, com base no trabalho de QWorld e IBM. </h3>\n",
    "<h4 <a href=\"https://qworld.net/qbook101/\"></a> https://qworld.net/qbook101/ e https://docs.quantum.ibm.com/guides/hello-world </h4>"
   ]
  },
  {
   "cell_type": "markdown",
   "id": "af36bbe7-e630-416a-a628-cf6ff7faa872",
   "metadata": {},
   "source": [
    "<font style=\"font-size:28px;\" align=\"left\"><b>Lançamento de Moeda: Um Bit Probabilístico</b></font>\n",
    "<br>"
   ]
  },
  {
   "cell_type": "markdown",
   "id": "c002259c-c72c-42e0-b3e8-2b9a93cf643b",
   "metadata": {},
   "source": [
    "<h3> Moeda honesta </h3>\n",
    "\n",
    "Uma moeda tem dois lados: <i>Cara</i> e <i>Coroa</i>.\n",
    "\n",
    "Depois de jogar uma moeda, obtemos cara ou coroa. Podemos representar esses dois casos diferentes por um único bit:\n",
    "<ul>\n",
    "    <li> 0 representa Cara </li>\n",
    "    <li> 1 representa Coroa </li>\n",
    "</ul>"
   ]
  },
  {
   "cell_type": "markdown",
   "id": "949039f0-0fdd-4a41-8225-8ffea7cfe237",
   "metadata": {},
   "source": [
    "<h3> Lançando uma moeda honesta </h3>\n",
    "\n",
    "Se nossa moeda for justa, então as probabilidades de obter cara e coroa são iguais:\n",
    "\n",
    "$p= \\dfrac{1}{2} = 0,5$.\n",
    "\n",
    "O lançamento de uma moeda honesta pode ser representado como um operador:\n",
    "<ul>\n",
    "    <li> $ MoedaHonesta(Cara) = \\frac{1}{2} Cara + \\frac{1}{2}Coroa $ </li>\n",
    "    <li> $ MoedaHonesta(Coroa) \\mspace{10mu} = \\frac{1}{2} Cara + \\frac{1}{2}Coroa $ </li>\n",
    "</ul>\n",
    "\n",
    "Sua representação na tabela:\n",
    "\n",
    "$\n",
    "MoedaHonesta = \\begin{array}{c|cc} \\hookleftarrow & \\mathbf{Cara} & \\mathbf{Coroa} \\\\ \\hline \\mathbf{Cara} & \\dfrac{1}{2} & \\dfrac{1} {2} \\\\ \\mathbf{Coroa} & \\dfrac{1}{2} & \\dfrac{1}{2} \\end{array} \n",
    "$\n",
    "\n",
    "Aqui está a mesma tabela usando 0 e 1 como estados:\n",
    "\n",
    "$\n",
    "MoedaHonesta = \\begin{array}{c|cc} \\hookleftarrow & \\mathbf{0} & \\mathbf{1} \\\\ \\hline \\mathbf{0} & \\dfrac{1}{2} & \\dfrac{1} {2} \\\\ \\mathbf{1} & \\dfrac{1}{2} & \\dfrac{1}{2} \\end{array} \n",
    "$"
   ]
  },
  {
   "cell_type": "markdown",
   "id": "08c4accb-5f5d-482a-acd5-d3cd5696ca91",
   "metadata": {},
   "source": [
    "<h3> Tarefa 1: Simulando MoedaHonesta em Python</h3>\n",
    "\n",
    "Jogue uma moeda honesta 100 vezes. Calcule o número total de caras e coroas e, a seguir, verifique a proporção entre o número de caras e o número de coroas.\n",
    "\n",
    "Faça o mesmo experimento 1000 vezes.\n",
    "\n",
    "Faça o mesmo experimento 10.000 vezes.\n",
    "\n",
    "Faça o mesmo experimento 100.000 vezes.\n",
    "\n",
    "Seus resultados se aproximam do caso ideal (os números de caras e coroas são iguais)?"
   ]
  },
  {
   "cell_type": "markdown",
   "id": "065ac7b7-4d29-4ea6-97ce-7e81d1ee757d",
   "metadata": {},
   "source": [
    "<h3>Resposta 1</h3>"
   ]
  },
  {
   "cell_type": "code",
   "execution_count": 10,
   "id": "5c219fca-02cb-4ea5-8149-acb173fe92fa",
   "metadata": {},
   "outputs": [
    {
     "name": "stdout",
     "output_type": "stream",
     "text": [
      "experimento: 100\n",
      "cara = 50   coroa =  50\n",
      "a razão entre #caras/#coroas é 1.0\n",
      "\n",
      "experimento: 1000\n",
      "cara = 489   coroa =  511\n",
      "a razão entre #caras/#coroas é 0.9569\n",
      "\n",
      "experimento: 10000\n",
      "cara = 4939   coroa =  5061\n",
      "a razão entre #caras/#coroas é 0.9759\n",
      "\n",
      "experimento: 100000\n",
      "cara = 49808   coroa =  50192\n",
      "a razão entre #caras/#coroas é 0.9923\n",
      "\n"
     ]
    }
   ],
   "source": [
    "from random import randrange\n",
    "\n",
    "for experimento in [100,1000,10000,100000]:\n",
    "    cara = coroa = 0\n",
    "    for i in range(experimento):\n",
    "        if randrange(2) == 0: cara = cara + 1\n",
    "        else: coroa = coroa + 1\n",
    "    print(\"experimento:\",experimento)\n",
    "    print(\"cara =\",cara,\"  coroa = \",coroa)\n",
    "    print(\"a razão entre #caras/#coroas é\",(round(cara/coroa,4)))\n",
    "    print()"
   ]
  },
  {
   "cell_type": "markdown",
   "id": "cc032f45-7e12-47a8-95e0-26932594895c",
   "metadata": {},
   "source": [
    "<h3> Lançando uma moeda viciada </h3>\n",
    "\n",
    "Nossa moeda pode ter um viés. \n",
    "\n",
    "Por exemplo, a probabilidade de obter cara é maior do que a probabilidade de obter coroa.\n",
    "\n",
    "Aqui está um exemplo:\n",
    "\n",
    "$\n",
    "MoedaViciada = \\begin{array}{c|cc} \\hookleftarrow & \\mathbf{Cara} & \\mathbf{Coroa} \\\\ \\hline \\mathbf{Cara} & 0,6 & 0,6 \\\\ \\mathbf{Coroa} & 0,4 & 0,4 \\end{array}\n",
    "$\n",
    "\n",
    "Usando 0 e 1 como estados:\n",
    "\n",
    "$\n",
    "MoedaViciada = \\begin{array}{c|cc} \\hookleftarrow & \\mathbf{0} & \\mathbf{1} \\\\ \\hline \\mathbf{0} & 0,6 & 0,6\\\\ \\mathbf{1} & 0,4 & 0,4 \\end{array}\n",
    "$"
   ]
  },
  {
   "cell_type": "markdown",
   "id": "621b1533-1528-432f-b3af-412757cd1b23",
   "metadata": {},
   "source": [
    "<h3> Tarefa 2: Simulando MoedaViciada em Python</h3>\n",
    "\n",
    "Jogue uma moeda viciada 100 vezes. Calcule o número total de caras e coroas e, a seguir, verifique a proporção entre o número de caras e o número de coroas.\n",
    "\n",
    "$\n",
    "MoedaViciada = \\begin{array}{c|cc} \\hookleftarrow & \\mathbf{Cara} & \\mathbf{Coroa} \\\\ \\hline \\mathbf{Cara} & 0,6 & 0,6 \\\\  \\mathbf{Coroa} & 0,4 & 0,4  \\end{array}\n",
    "$\n",
    "\n",
    "Faça o mesmo experimento 1000 vezes.\n",
    "\n",
    "Faça o mesmo experimento 10.000 vezes.\n",
    "\n",
    "Faça o mesmo experimento 100.000 vezes.\n",
    "\n",
    "Seus resultados se aproximam do caso ideal $ \\dfrac{ \\mbox{\\# de caras} }{ \\mbox{\\# de coroas} } = \\dfrac{0,6}{0,4} = 1,50000000 $?"
   ]
  },
  {
   "cell_type": "markdown",
   "id": "e87dcbc9-2564-4d34-a99b-37ba4ee344f9",
   "metadata": {},
   "source": [
    "<h3>Resposta 2</h3>"
   ]
  },
  {
   "cell_type": "code",
   "execution_count": 16,
   "id": "c428c9a9-5871-413e-81b9-8813dbab216d",
   "metadata": {},
   "outputs": [
    {
     "name": "stdout",
     "output_type": "stream",
     "text": [
      "experimento: 100\n",
      "cara = 56   coroa =  44\n",
      "a razão entre #caras/#coroas é 1.2727\n",
      "\n",
      "experimento: 1000\n",
      "cara = 583   coroa =  417\n",
      "a razão entre #caras/#coroas é 1.3981\n",
      "\n",
      "experimento: 10000\n",
      "cara = 5991   coroa =  4009\n",
      "a razão entre #caras/#coroas é 1.4944\n",
      "\n",
      "experimento: 100000\n",
      "cara = 60116   coroa =  39884\n",
      "a razão entre #caras/#coroas é 1.5073\n",
      "\n"
     ]
    }
   ],
   "source": [
    "from random import randrange\n",
    "\n",
    "# vamos escolher um número aleatório entre {0,1,...,99}\n",
    "# espera-se que seja inferior a 60 com probabilidade 0,6\n",
    "# e maior ou igual a 60 com probabilidade 0,4\n",
    "\n",
    "for experimento in [100,1000,10000,100000]:\n",
    "    cara = coroa = 0\n",
    "    for i in range(experimento):\n",
    "        if randrange(100) < 60: cara = cara + 1 # com probabilidade 0,6\n",
    "        else: coroa = coroa + 1 # com probabilidade 0,4\n",
    "    print(\"experimento:\",experimento)\n",
    "    print(\"cara =\",cara,\"  coroa = \",coroa)\n",
    "    print(\"a razão entre #caras/#coroas é\",(round(cara/coroa,4)))\n",
    "    print()"
   ]
  },
  {
   "cell_type": "markdown",
   "id": "7ca22c01-4e92-4ce7-b366-de594646cfa0",
   "metadata": {},
   "source": [
    "<h3> Extra: Programando uma moeda viciada </h3>\n",
    "\n",
    "Usamos um método simples para criar uma moeda tendenciosa.\n",
    "\n",
    "Primeiro, escolhemos um intervalo para a precisão das probabilidades, digamos $ N $, como $ N = 11, 101, 1001, \\mbox{ ou}\\ 10^k+1 $ para algum $ k > 3 $.\n",
    "\n",
    "Segundo, escolhemos o viés, digamos $ B $, como um número inteiro em $ \\{0,\\ldots,N\\} $.\n",
    "\n",
    "Fixamos $N$ e $B$.\n",
    "\n",
    "Terceiro, escolhemos um número inteiro aleatório em $ \\{0,1,\\ldots,N-1\\} $:\n",
    "<ul>\n",
    "    <li> se for menor que $ B $, produzimos \"Cara\" e </li>\n",
    "    <li> se for igual ou maior que $ B $, produzimos \"Coroa\" </li>\n",
    "</ul>\n",
    "    \n",
    "Dessa forma, temos uma moeda viciada \"caindo em\" cara com probabilidade $ \\frac{B}{N} $ incluindo 0 e 1.\n",
    "\n",
    "Observe que escolhemos $ N = 10^k+1 $ como um número ímpar. Desta forma, a moeda não pode ser justa enquanto $B$ for um número inteiro, porque a metade de um número inteiro ímpar não é um número inteiro."
   ]
  },
  {
   "cell_type": "markdown",
   "id": "cf7488d7-2cfd-4fcd-a9d3-499048899dc4",
   "metadata": {},
   "source": [
    "<h3> Tarefa 3 </h3>\n",
    "\n",
    "Escreva uma função para implementar a moeda viciada descrita.\n",
    "\n",
    "As entradas são inteiros $N>0$ e $ B \\in \\{0,\\ldots,N\\} $.\n",
    "\n",
    "A saída é \"Cara\" ou \"Coroa\"."
   ]
  },
  {
   "cell_type": "markdown",
   "id": "38a58084-1ffd-4a70-a589-708328d004e9",
   "metadata": {},
   "source": [
    "<h3>Resposta 3</h3>"
   ]
  },
  {
   "cell_type": "code",
   "execution_count": 24,
   "id": "70dd8b14-f3c0-46be-a914-5146f1ca04ae",
   "metadata": {},
   "outputs": [],
   "source": [
    "def moeda_viciada(N,B):\n",
    "    from random import randrange\n",
    "    numero_aleatorio = randrange(N)\n",
    "    if numero_aleatorio < B:\n",
    "        return \"Cara\"\n",
    "    else:\n",
    "        return \"Coroa\""
   ]
  },
  {
   "cell_type": "markdown",
   "id": "7cc6f366-f081-4c8b-979d-2ff3aa804a4e",
   "metadata": {},
   "source": [
    "<h3> Tarefa 4</h3>\n",
    "\n",
    "Usamos a moeda viciada descrita na Tarefa 3. \n",
    "\n",
    "Escolhemos $N$ como 101.\n",
    "\n",
    "Nossa tarefa é determinar o valor de $B$ experimentalmente, sem olhar diretamente para seu valor.\n",
    "\n",
    "Jogue a (mesma) moeda tendenciosa 500 vezes, colete as estatísticas e adivinhe o viés.\n",
    "\n",
    "Compare sua estimativa com a tendência real calculando o erro relativo em porcentagem (o valor absoluto da diferença dividido pela tendência real)."
   ]
  },
  {
   "cell_type": "markdown",
   "id": "c8ffcfe5-ba0b-4c0b-a8a9-8c2d76334069",
   "metadata": {},
   "source": [
    "<h3>Resposta 4</h3>"
   ]
  },
  {
   "cell_type": "code",
   "execution_count": 53,
   "id": "44c6b748-f684-4c18-9d52-7efa980e1725",
   "metadata": {},
   "outputs": [],
   "source": [
    "def moeda_viciada(N,B):\n",
    "    from random import randrange\n",
    "    numero_aleatorio = randrange(N)\n",
    "    if numero_aleatorio < B:\n",
    "        return \"Cara\"\n",
    "    else:\n",
    "        return \"Coroa\""
   ]
  },
  {
   "cell_type": "code",
   "execution_count": 54,
   "id": "5a114f5e-875a-4448-bb6b-1fef2d859e31",
   "metadata": {},
   "outputs": [],
   "source": [
    "from random import randrange\n",
    "N = 101\n",
    "B = randrange(N+1)"
   ]
  },
  {
   "cell_type": "code",
   "execution_count": 78,
   "id": "e758ab3f-2e52-470f-a5e3-bb0b16215839",
   "metadata": {},
   "outputs": [
    {
     "name": "stdout",
     "output_type": "stream",
     "text": [
      "minha estimativa é 0.64\n",
      "o viés real é 0.6336633663366337\n",
      "o erro é de 1.0000000000000009 %\n"
     ]
    }
   ],
   "source": [
    "total_sorteios = 500\n",
    "numero_caras = 0\n",
    "for i in range(total_sorteios):\n",
    "    if moeda_viciada(N,B) == \"Cara\":\n",
    "        numero_caras = numero_caras + 1\n",
    "\n",
    "estimativa =  numero_caras/total_sorteios        \n",
    "vies_real = B/N\n",
    "erro = abs(estimativa - vies_real)/vies_real*100 \n",
    "\n",
    "print(\"minha estimativa é\",estimativa)\n",
    "print(\"o viés real é\",vies_real)\n",
    "print(\"o erro é de\",erro,\"%\")"
   ]
  }
 ],
 "metadata": {
  "kernelspec": {
   "display_name": "Python 3 (ipykernel)",
   "language": "python",
   "name": "python3"
  },
  "language_info": {
   "codemirror_mode": {
    "name": "ipython",
    "version": 3
   },
   "file_extension": ".py",
   "mimetype": "text/x-python",
   "name": "python",
   "nbconvert_exporter": "python",
   "pygments_lexer": "ipython3",
   "version": "3.11.7"
  }
 },
 "nbformat": 4,
 "nbformat_minor": 5
}
