{
 "cells": [
  {
   "cell_type": "markdown",
   "id": "6547daa2-1be8-4328-98c9-372ce110e632",
   "metadata": {},
   "source": [
    "<h1 align=\"left\" style=\"color:#3149b5;\"> QURIOUS - COMPUTAÇÃO QUÂNTICA </h1>\n",
    "<h2 align=\"left\" style=\"color:#3149b5;\"> Álgebra Linear para Computação Quântica e Mecânica Quântica </h2>\n",
    "<h3 align=\"left\" style=\"color:#000000;\"> Por Lucas Gregolon e Suzielli Martins Mendonça, com base no trabalho de QWorld e IBM. </h3>\n",
    "<h4 <a href=\"https://qworld.net/qbook101/\"></a> https://qworld.net/qbook101/ e https://docs.quantum.ibm.com/guides/hello-world </h4>"
   ]
  },
  {
   "cell_type": "markdown",
   "id": "7613a41c-dc53-4f4d-b804-74d0862efedf",
   "metadata": {},
   "source": [
    "<font style=\"font-size:28px;\" align=\"left\"><b>Operadores Probabilísticos</b></font>\n",
    "<br>"
   ]
  },
  {
   "cell_type": "markdown",
   "id": "473c1de0-25a7-4494-883e-e5fcf600e00b",
   "metadata": {},
   "source": [
    "Lembre-se das moedas tendenciosas de Ana e de seu protocolo de lançamento de moedas.\n",
    "\n",
    "$\n",
    "JogoMoedas = \\begin{array}{c|cc} \\hookleftarrow & \\mathbf{Cara} & \\mathbf{Coroa} \\\\ \\hline \\mathbf{Cara} & 0,6 & 0,3\\\\  \\mathbf{Coroa} & 0,4 & 0,7  \\end{array} \\equiv \\begin{array}{c|cc} \\hookleftarrow & \\mathbf{0} & \\mathbf{1} \\\\ \\hline \\mathbf{0} & 0,6 & 0,3 \\\\  \\mathbf{1} & 0,4 & 0,7  \\end{array}\n",
    "$"
   ]
  },
  {
   "cell_type": "markdown",
   "id": "fb1b4b06-2240-402f-8313-62832d683189",
   "metadata": {},
   "source": [
    "Rastreamos os resultados de Ana após dois lançamentos de moeda.\n",
    "\n",
    "<b> No início: </b>\n",
    "\n",
    "<i> Lembre-se do protocolo:\n",
    "<ol> \n",
    "    <li> sempre que obtiver cara, lançará um Real na rodada seguinte; </li>\n",
    "    <li> sempre que obtiver coroa, lançará um centavo na próxima rodada; e </li>\n",
    "    <li> ela começa lançando um Real (presumindo que ganhou cara) </li>\n",
    "</ol>\n",
    "</i>\n",
    "\n",
    "Ela começa no estado 0: $ v_0 = \\begin{pmatrix} 1 \\\\ 0 \\end{pmatrix} $.\n",
    "\n",
    "O estado 0 representa Cara e o estado 1 representa Coroa."
   ]
  },
  {
   "cell_type": "markdown",
   "id": "768a33ca-4c3e-4e20-b4df-311da45bcaa2",
   "metadata": {},
   "source": [
    "<b>Após o primeiro lançamento da moeda:</b>\n",
    "\n",
    "$$\n",
    "\\left( JogoMoedas \\right)\n",
    "\\cdot\n",
    "\\left( EstadoAtual \\right)\n",
    "$$\n",
    "\n",
    "$$\n",
    "= \\left( \\begin{array}{c|cc} \\hookleftarrow & \\mathbf{Cara} & \\mathbf{Coroa} \\\\ \\hline \\mathbf{Cara} & 0,6 & 0,3\\\\ \\mathbf{Coroa} & 0,4 & 0,7 \\end{array} \\right)\n",
    "\\cdot\n",
    "\\begin{pmatrix} 1 \\\\ 0 \\end{pmatrix}\n",
    "$$\n",
    "  \n",
    "Cada entrada do novo vetor é calculada por uma linha e pelo estado atual:\n",
    "\n",
    "$$\n",
    "\\begin{pmatrix} 0,6 \\cdot 1 + 0,3 \\cdot 0 \\\\ 0,4 \\cdot 1 + 0,7 \\cdot 0 \\end{pmatrix}\n",
    "=\n",
    "\\begin{pmatrix} 0,6 + 0 \\\\ 0,4 + 0 \\end{pmatrix}\n",
    "=\n",
    "\\begin{pmatrix} 0,6 \\\\ 0,4 \\end{pmatrix}.\n",
    "$$"
   ]
  },
  {
   "cell_type": "markdown",
   "id": "a0c3ef1d-44e0-4cd6-8d58-7f508b3a8d38",
   "metadata": {},
   "source": [
    "<b>Após o segundo lançamento da moeda:</b>\n",
    "\n",
    "$$\n",
    "\\left( JogoMoedas \\right)\n",
    "\\cdot\n",
    "\\left( EstadoAtual \\right)\n",
    "$$\n",
    "\n",
    "\n",
    "$$\n",
    "= \\left( \\begin{array}{c|cc} \\hookleftarrow & \\mathbf{Cara} & \\mathbf{Coroa} \\\\ \\hline \\mathbf{Cara} & 0,6 & 0,3\\\\ \\mathbf{Coroa} & 0,4 & 0,7 \\end{array} \\right)\n",
    "\\cdot\n",
    "\\begin{pmatrix} 0,6 \\\\ 0,4 \\end{pmatrix}\n",
    "$$\n",
    "\n",
    "Cada entrada do novo vetor é calculada por uma linha e pelo estado atual:\n",
    "\n",
    "$$\n",
    "\\begin{pmatrix} 0,6 \\cdot 0,6 + 0,3 \\cdot 0,4 \\\\ 0,4 \\cdot 0,6 + 0,7 \\cdot 0,4 \\end{pmatrix}\n",
    "=\n",
    "\\begin{pmatrix} 0,36 + 0,12 \\\\ 0,24 + 0,28 \\end{pmatrix}\n",
    "=\n",
    "\\begin{pmatrix} 0,48 \\\\ 0,52 \\end{pmatrix}.\n",
    "$$"
   ]
  },
  {
   "cell_type": "markdown",
   "id": "7a344e3f-af22-4656-b5e2-f2c301128a5b",
   "metadata": {},
   "source": [
    "O <b>protocolo de lançamento de moeda</b> de Ana é um <i>operador probabilístico</i>.\n",
    "\n",
    "Da mesma forma que qualquer operador, dependendo do estado atual, o protocolo de lançamento de moeda da Ana determina o próximo estado.\n",
    "\n",
    "$$\n",
    "\\begin{pmatrix} 1 \\\\ 0 \\end{pmatrix}\n",
    "\\xrightarrow{\\mbox{Protocolo de lançamento de moeda de Ana}}\n",
    "\\begin{pmatrix} 0,6 \\\\ 0,4 \\end{pmatrix}\n",
    "\\xrightarrow{\\mbox{Protocolo de lançamento de moeda de Ana}}\n",
    "\\begin{pmatrix} 0,48 \\\\ 0,52 \\end{pmatrix}\n",
    "$$"
   ]
  },
  {
   "cell_type": "markdown",
   "id": "df4820f4-09cd-4332-9840-ddc40e9370f8",
   "metadata": {},
   "source": [
    "<font color=\"blue\"><b>Um operador probabilístico evolui o sistema de um estado probabilístico para um estado probabilístico.</b></font>\n",
    "\n",
    "O protocolo de lançamento de moeda de Ana transforma $ \\begin{pmatrix} 0,8 \\\\ 0,2 \\end{pmatrix} $ em $ \\begin{pmatrix} 0,54 \\\\ 0,46 \\end{pmatrix} $.\n",
    "\n",
    "Ao calcular o novo estado, usamos a tabela $ JogoMoedas $ e o $ EstadoAtual = \\begin{pmatrix} 0,8 \\\\ 0,2 \\end{pmatrix} $:\n",
    "\n",
    "$$\n",
    "\\left( JogoMoedas \\right)\n",
    "\\cdot\n",
    "\\left( EstadoAtual \\right)\n",
    "$$\n",
    "\n",
    "$$\n",
    "= \\left( \\begin{array}{c|cc} \\hookleftarrow & \\mathbf{Cara} & \\mathbf{Coroa} \\\\ \\hline \\mathbf{Cara} & 0,6 & 0,3\\\\ \\mathbf{Coroa} & 0,4 & 0,7 \\end{array} \\right)\n",
    "\\cdot\n",
    "\\begin{pmatrix} 0,8 \\\\ 0,2 \\end{pmatrix}\n",
    "= \n",
    "\\begin{pmatrix} 0,6 \\cdot 0,8 + 0,3 \\cdot 0,2 \\\\ 0,4 \\cdot 0,8 + 0,7 \\cdot 0,2 \\end{pmatrix}\n",
    "=\n",
    "\\begin{pmatrix} 0,48 + 0,06 \\\\ 0,32 + 0,14 \\end{pmatrix}\n",
    "=\n",
    "\\begin{pmatrix} 0,54 \\\\ 0,46 \\end{pmatrix}.\n",
    "$$"
   ]
  },
  {
   "cell_type": "markdown",
   "id": "8ff48ef5-8898-4840-9182-dd17b0f581c3",
   "metadata": {},
   "source": [
    "<h3> Operador probabilístico </h3>\n",
    "\n",
    "Um operador probabilístico pode ser representado como uma tabela quadrada ou matriz.\n",
    "\n",
    "As entradas de um operador probabilístico representam as probabilidades de transição entre os estados.\n",
    "\n",
    "Portanto, <b>cada entrada é não negativa.</b>\n",
    "\n",
    "Cada coluna representa as probabilidades de transição de um estado para todos os estados. Portanto, <b>a soma de todas as entradas em cada coluna é 1</b>, ou seja, a probabilidade 1 é distribuída por todos os estados. \n",
    "\n",
    "Qualquer matriz que satisfaça essas duas propriedades é chamada de <b>matriz estocástica</b>.\n",
    "\n",
    "Um operador probabilístico é uma matriz estocástica e vice-versa.\n",
    "\n",
    "<i> Observe que o operador de qualquer sistema linear é representado como uma matriz. </i>"
   ]
  },
  {
   "cell_type": "markdown",
   "id": "91ec3aaf-72d5-46d0-8988-4d72a6b26405",
   "metadata": {},
   "source": [
    "<h3> Evolução probabilística </h3>\n",
    "\n",
    "Um estado probabilístico é um vetor estocástico, digamos $v$.\n",
    "\n",
    "Um operador probabilístico é uma matriz estocástica, digamos $A$,\n",
    "\n",
    "Se o operador probabilístico $A$ for aplicado ao estado probabilístico $v$, o novo estado, digamos $v'$, é calculado como \n",
    "\n",
    "$ v' = A \\cdot v. $\n",
    "\n",
    "<i> Observe que a evolução do sistema linear é representada pela multiplicação matriz-vetor. </i>"
   ]
  },
  {
   "cell_type": "markdown",
   "id": "4c0193ee-a285-409b-9bcb-46b9b5e83f7b",
   "metadata": {},
   "source": [
    "Se representarmos $ JogoMoedas $ como uma matriz: $ \\begin{pmatrix} 0,6 & 0,3 \\\\ 0,4 & 0,7 \\end{pmatrix} $, então o novo estado probabilístico é calculado como\n",
    "\n",
    "$\n",
    "\\begin{pmatrix} 0,54 \\\\ 0,46 \\end{pmatrix} = \\begin{pmatrix} 0,6 & 0,3 \\\\ 0,4 & 0,7 \\end{pmatrix} \\cdot \\begin{pmatrix} 0,8 \\\\ 0,2 \\end{pmatrix}.\n",
    "$\n",
    "\n",
    "Por favor, verifique a exatidão da multiplicação de matrizes e vetores."
   ]
  },
  {
   "cell_type": "markdown",
   "id": "64361297-6f67-4bcd-9224-adeaed6a1855",
   "metadata": {},
   "source": [
    "<h3> Tarefa 2 </h3>\n",
    "\n",
    "Recebemos o seguinte operador probabilístico: $ B = \\begin{pmatrix} 0,4 & 0,6 & 0 \\\\ 0,2 & 0,1 & 0,7 \\\\ 0,4 & 0,3 & 0,3 \\end{pmatrix} $.\n",
    "\n",
    "Qual é a probabilidade de transição do segundo estado para o terceiro estado?\n",
    "\n",
    "Qual é a probabilidade de transição do terceiro estado para o primeiro estado?\n",
    "\n",
    "Qual é a probabilidade de transição do primeiro estado para o segundo estado?"
   ]
  },
  {
   "cell_type": "markdown",
   "id": "6f16f245-66ab-48a8-ad79-b1c50a1ddd8e",
   "metadata": {},
   "source": [
    "<h3> Resposta 2 </h3>"
   ]
  },
  {
   "cell_type": "markdown",
   "id": "30ad84b9-fe1e-45fa-b67f-3885e4ec4e7e",
   "metadata": {},
   "source": [
    "Lembre-se de que as transições são de cima para a esquerda:\n",
    "\n",
    "$\n",
    "\\begin{array}{c|ccc} \\hookleftarrow & \\mathbf{s1} & \\mathbf{s2} & \\mathbf{s3} \\\\ \\hline \n",
    "    \\mathbf{s1} & 0,4 & 0,6 & 0 \\\\ \n",
    "    \\mathbf{s2} & 0,2 & 0,1 & 0,7 \\\\\n",
    "    \\mathbf{s3} & 0,4 & 0,3 & 0,3 \\end{array}\n",
    "$\n",
    "\n",
    "A probabilidade de transição **do segundo estado para o terceiro estado** é representada pela entrada na **2ª coluna e 3ª linha** e, portanto, é 0,3.\n",
    "\n",
    "$\n",
    "\\begin{array}{c|ccc} \\hookleftarrow & \\mathbf{s1} & \\color{blue}{\\mathbf{de}} & \\mathbf{s3} \\\\ \\hline \n",
    "    \\mathbf{s1} & 0,4 & 0,6 & 0 \\\\ \n",
    "    \\mathbf{s2} & 0,2 & 0,1 & 0,7 \\\\\n",
    "    \\color{blue}{\\mathbf{para}} & 0,4 & {\\color{blue}{\\mathbf{0,3}}} & 0,3 \\end{array}\n",
    "$\n",
    "\n",
    "A probabilidade de transição **do terceiro estado para o primeiro estado** é representada pela entrada na **3ª coluna e 1ª linha** e, portanto, é 0.\n",
    "\n",
    "$\n",
    "\\begin{array}{c|ccc} \\hookleftarrow & \\mathbf{s1} & \\mathbf{s2} & \\color{blue}{\\mathbf{de}} \\\\ \\hline \n",
    "     \\color{blue}{\\mathbf{para}} & 0,4 & 0,6 & {\\color{blue}{\\mathbf{0}}} \\\\ \n",
    "    \\mathbf{s2} & 0,2 & 0,1 & 0,7 \\\\\n",
    "    \\mathbf{s3} & 0,4 & 0,3 & 0,3 \\end{array}\n",
    "$\n",
    "\n",
    "A probabilidade de transição **do primeiro estado para o segundo estado** é representada pela entrada na **1ª coluna e na 2ª linha** e, portanto, é 0,2.\n",
    "\n",
    "$\n",
    "\\begin{array}{c|ccc} \\hookleftarrow & \\color{blue}{\\mathbf{de}} & \\mathbf{s2} & \\mathbf{s3} \\\\ \\hline \n",
    "    \\mathbf{s1} & 0,4 & 0,6 & 0 \\\\ \n",
    "    \\color{blue}{\\mathbf{para}} & {\\color{blue}{\\mathbf{0,2}}} & 0,1 & 0,7 \\\\\n",
    "    \\mathbf{s3} & 0,4 & 0,3 & 0,3 \\end{array}\n",
    "$"
   ]
  },
  {
   "cell_type": "markdown",
   "id": "4fe85cd0-d076-4b1e-833c-a752a39dd27d",
   "metadata": {},
   "source": [
    "<h3>Tarefa 3</h3>\n",
    "\n",
    "Construa aleatoriamente um operador probabilístico de dimensão $ (3 \\times 3 ) $.\n",
    "\n",
    "Ou seja, determine aleatoriamente as entradas da matriz que representa um operador probabilístico."
   ]
  },
  {
   "cell_type": "markdown",
   "id": "89a980c8-d8a7-4880-990a-7fa1a62d2cc8",
   "metadata": {},
   "source": [
    "<h3> Resposta 3 </h3>"
   ]
  },
  {
   "cell_type": "code",
   "execution_count": 7,
   "id": "120959f2-e22c-4872-9549-88ada17c345e",
   "metadata": {},
   "outputs": [
    {
     "name": "stdout",
     "output_type": "stream",
     "text": [
      "matriz A antes da normalização:\n",
      "[26, 21, 34]\n",
      "[68, 19, 71]\n",
      "[80, 94, 24]\n",
      "\n",
      "matriz A depois da normalização:\n",
      "[0.14942528735632185, 0.15671641791044777, 0.26356589147286824]\n",
      "[0.39080459770114945, 0.1417910447761194, 0.5503875968992248]\n",
      "[0.45977011494252873, 0.7014925373134329, 0.18604651162790697]\n",
      "\n",
      "os somatórios das colunas devem ser 1\n",
      "[1.0, 1.0, 1.0]\n"
     ]
    }
   ],
   "source": [
    "# vamos começar com uma matriz zero\n",
    "A = [\n",
    "    [0,0,0],\n",
    "    [0,0,0],\n",
    "    [0,0,0]\n",
    "]\n",
    "\n",
    "# escolheremos aleatoriamente as entradas e depois faremos a normalização para cada coluna\n",
    "# será mais fácil construir iterativamente as colunas\n",
    "# você pode notar que cada coluna é um estado probabilístico\n",
    "from random import randrange\n",
    "\n",
    "fator_normalizacao = [0,0,0] # o fator de normalização de cada coluna pode ser diferente\n",
    "\n",
    "for j in range(3): # cada coluna é construída iterativamente\n",
    "    fator_normalizacao[j] = 0\n",
    "    while fator_normalizacao[j]==0: # o fator de normalização não pode ser zero\n",
    "        for i in range(3):\n",
    "            A[i][j] = randrange(101) # escolhe um valor aleatório entre 0 e 100\n",
    "            fator_normalizacao[j] += A[i][j]\n",
    "\n",
    "# vamos imprimir a matriz A antes da normalização\n",
    "# as entradas estão entre 0 e 100\n",
    "print(\"matriz A antes da normalização:\")\n",
    "for i in range(3):\n",
    "    print(A[i])\n",
    "\n",
    "# vamos normalizar cada coluna\n",
    "for j in range(3):\n",
    "    for i in range(3):\n",
    "        A[i][j] /= fator_normalizacao[j] # forma mais curta de A[i][j] = A[i][j] / fator_normalizacao[j]\n",
    "        \n",
    "# vamos imprimir a matriz A após a normalização\n",
    "print()\n",
    "print(\"matriz A depois da normalização:\")\n",
    "for i in range(3):\n",
    "    print(A[i]) \n",
    "\n",
    "print()\n",
    "print(\"os somatórios das colunas devem ser 1\")\n",
    "\n",
    "soma = [0,0,0]\n",
    "for j in range(3):\n",
    "    for i in range(3):\n",
    "        soma[j] += A[i][j]\n",
    "\n",
    "print(soma) "
   ]
  },
  {
   "cell_type": "markdown",
   "id": "d70d1e2d-f963-456a-b714-2d9f29e73bab",
   "metadata": {},
   "source": [
    "<h3> Tarefa 4 </h3>\n",
    "\n",
    "Qual é o novo estado probabilístico se o operador $ B = \\begin{pmatrix} 0,4 & 0,6 & 0 \\\\ 0,2 & 0,1 & 0,7 \\\\ 0,4 & 0,3 & 0,3 \\end{pmatrix} $ for aplicado ao estado $ \\begin{pmatrix} 0,1 \\\\ 0,3 \\\\ 0,6 \\end{pmatrix}$.\n",
    "\n",
    "Encontre o resultado usando a multiplicação de vetores de matrizes.\n",
    "\n",
    "Por favor, não use nenhuma biblioteca python para multiplicação de vetores de matrizes. \n",
    "\n",
    "<i> O novo estado probabilístico deve ser $ \\begin{pmatrix} 0,22 \\\\ 0,47 \\\\ 0,31 \\end{pmatrix} $. </i>"
   ]
  },
  {
   "cell_type": "markdown",
   "id": "1b26f9a5-21be-4e32-96f4-88ddfc160b1d",
   "metadata": {},
   "source": [
    "<h3> Resposta 4 </h3>"
   ]
  },
  {
   "cell_type": "code",
   "execution_count": 9,
   "id": "855f07c0-5be5-4616-9a2a-db28475eb674",
   "metadata": {},
   "outputs": [
    {
     "name": "stdout",
     "output_type": "stream",
     "text": [
      "[0.22, 0.47, 0.31]\n"
     ]
    }
   ],
   "source": [
    "# operador B\n",
    "B = [\n",
    "    [0.4,0.6,0],\n",
    "    [0.2,0.1,0.7],\n",
    "    [0.4,0.3,0.3]\n",
    "]\n",
    "\n",
    "# estado atual\n",
    "v = [0.1,0.3,0.6]\n",
    "\n",
    "novo_estado = []\n",
    "\n",
    "indice = 0\n",
    "\n",
    "for linha in B:\n",
    "    novo_estado.append(0)\n",
    "    for i in range(len(linha)):\n",
    "        novo_estado[indice] = novo_estado[indice] + linha[i] * v[i]\n",
    "    indice = indice + 1\n",
    "    \n",
    "print(novo_estado)"
   ]
  },
  {
   "cell_type": "markdown",
   "id": "40f98129-cb13-4256-994d-a7afb0fc0c5e",
   "metadata": {},
   "source": [
    "<h3> Tarefa 5 </h3>\n",
    "\n",
    "Escreva uma função chamada <i>evolucao_linear</i> que receba um operador probabilístico e um estado probabilístico e depois retorna o novo estado probabilístico.\n",
    "\n",
    "Por favor, não use nenhuma biblioteca Python para multiplicação de vetores de matrizes.\n",
    "\n",
    "Sua função deve funcionar para qualquer dimensão.\n",
    "\n",
    "Salve sua função para poder usá-la mais tarde.\n",
    "<br>\n",
    "<div style=\"background-color:#f8f8f8;\">\n",
    "<b><u>Escreva o conteúdo de uma célula de código</u></b> em um arquivo externo:\n",
    "    \n",
    "    %%writefile evolucao_linear.py\n",
    "Este comando deve ser colocado na primeira linha da célula, e a seguir a célula deve ser executada.\n",
    "</div>\n",
    "\n",
    "Teste sua função em $ B = \\begin{pmatrix} 0,4 & 0,6 & 0 \\\\ 0,2 & 0,1 & 0,7 \\\\ 0,4 & 0,3 & 0,3 \\end{pmatrix} $ e $ \\begin{pmatrix} 0,1 \\\\ 0,3 \\\\ 0,6 \\end{pmatrix} $. \n",
    "\n",
    "O novo estado probabilístico deve ser $ \\begin{pmatrix} 0,22 \\\\ 0,47 \\\\ 0,31 \\end{pmatrix} $.\n",
    "\n",
    "Em seguida, evolua seu sistema em 5, 10, 20 e 40 etapas.\n",
    "\n",
    "Este sistema deverá evoluir para um estado probabilístico fixo.\n",
    "\n",
    "Mude seu estado inicial para $ \\begin{pmatrix} 1 \\\\ 0 \\\\ 0 \\end{pmatrix} $ e veja se o estado convergido é o mesmo ou não."
   ]
  },
  {
   "cell_type": "markdown",
   "id": "9fdfb447-9280-4d74-9d80-6bb96d1dde42",
   "metadata": {},
   "source": [
    "<h3> Resposta 5 </h3>"
   ]
  },
  {
   "cell_type": "code",
   "execution_count": 12,
   "id": "47bd6e76-c875-43d2-a4ec-58df9e84bdcc",
   "metadata": {},
   "outputs": [],
   "source": [
    "# %%writefile evolucao_linear.py\n",
    "\n",
    "def evolucao_linear(operador,estado):\n",
    "    novo_estado=[]\n",
    "    for i in range(len(operador)): # para cada linha\n",
    "        # calculamos a entrada correspondente do novo estado\n",
    "        novo_estado.append(0) # definimos esse valor como 0 para a inicialização\n",
    "        for j in range(len(estado)): # para cada elemento em estado\n",
    "            novo_estado[i] = novo_estado[i] + operador[i][j] * estado[j] # somatório das multiplicações aos pares\n",
    "    return novo_estado # retorna o novo estado probabilístico"
   ]
  },
  {
   "cell_type": "code",
   "execution_count": 13,
   "id": "77d5f1a5-870a-49b0-b0da-a501d0e73cf2",
   "metadata": {},
   "outputs": [
    {
     "name": "stdout",
     "output_type": "stream",
     "text": [
      "[0.22, 0.47, 0.31]\n"
     ]
    }
   ],
   "source": [
    "# operador para teste\n",
    "B = [\n",
    "    [0.4,0.6,0],\n",
    "    [0.2,0.1,0.7],\n",
    "    [0.4,0.3,0.3]\n",
    "]\n",
    "\n",
    "# estado para teste\n",
    "v = [0.1,0.3,0.6]\n",
    "\n",
    "novo_estado = evolucao_linear(B,v)\n",
    "print(novo_estado)"
   ]
  },
  {
   "cell_type": "code",
   "execution_count": 14,
   "id": "f8c8b4b2-3528-4b87-a6a7-0e4c25fbb38a",
   "metadata": {},
   "outputs": [
    {
     "name": "stdout",
     "output_type": "stream",
     "text": [
      "[0.33378399999999997, 0.33309199999999994, 0.333124]\n",
      "[0.3333328297599999, 0.3333337260799999, 0.33333344415999994]\n",
      "[0.33333333333309395, 0.3333333333336499, 0.3333333333332556]\n",
      "[0.33333333333333315, 0.33333333333333315, 0.33333333333333315]\n"
     ]
    }
   ],
   "source": [
    "for passo in [5,10,20,40]:\n",
    "    novo_estado = [0.1,0.3,0.6] # estado inicial\n",
    "    for i in range(passo):\n",
    "        novo_estado = evolucao_linear(B,novo_estado)\n",
    "    print(novo_estado)"
   ]
  },
  {
   "cell_type": "markdown",
   "id": "2fb0f334-a19a-45c0-b667-245b07cbf552",
   "metadata": {},
   "source": [
    "<b> O sistema parece convergir para um estado probabilístico fixo </b>.\r\n",
    "\r\n",
    "Além disso, o estado probabilístico convergente é uma distribuição igual."
   ]
  },
  {
   "cell_type": "code",
   "execution_count": 16,
   "id": "f92e529c-ef3c-49d3-a7b5-932c17c6eaa3",
   "metadata": {},
   "outputs": [
    {
     "name": "stdout",
     "output_type": "stream",
     "text": [
      "[0.33255999999999997, 0.33391999999999994, 0.33352]\n",
      "[0.33333399039999995, 0.3333327007999999, 0.33333330879999995]\n",
      "[0.3333333333334263, 0.33333333333305704, 0.3333333333335162]\n",
      "[0.33333333333333315, 0.33333333333333315, 0.33333333333333315]\n"
     ]
    }
   ],
   "source": [
    "# mudando o estado inicial\n",
    "\n",
    "for passo in [5,10,20,40]:\n",
    "    novo_estado = [1,0,0] # estado inicial\n",
    "    for i in range(passo):\n",
    "        novo_estado = evolucao_linear(B,novo_estado)\n",
    "    print(novo_estado)"
   ]
  },
  {
   "cell_type": "markdown",
   "id": "50180ba0-ca4c-4b29-b4d9-77f8b1450dd8",
   "metadata": {},
   "source": [
    "<b> O estado inicial não altera a convergência. </b>"
   ]
  }
 ],
 "metadata": {
  "kernelspec": {
   "display_name": "Python 3 (ipykernel)",
   "language": "python",
   "name": "python3"
  },
  "language_info": {
   "codemirror_mode": {
    "name": "ipython",
    "version": 3
   },
   "file_extension": ".py",
   "mimetype": "text/x-python",
   "name": "python",
   "nbconvert_exporter": "python",
   "pygments_lexer": "ipython3",
   "version": "3.11.7"
  }
 },
 "nbformat": 4,
 "nbformat_minor": 5
}
