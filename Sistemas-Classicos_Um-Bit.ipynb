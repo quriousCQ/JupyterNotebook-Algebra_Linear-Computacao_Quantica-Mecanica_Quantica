{
 "cells": [
  {
   "cell_type": "markdown",
   "id": "1840b54b-d1ce-47dd-abf7-e9643a6f94d1",
   "metadata": {},
   "source": [
    "<h1 align=\"left\" style=\"color:#3149b5;\"> QURIOUS - COMPUTAÇÃO QUÂNTICA </h1>\n",
    "<h2 align=\"left\" style=\"color:#3149b5;\"> Álgebra Linear para Computação Quântica e Mecânica Quântica </h2>\n",
    "<h3 align=\"left\" style=\"color:#000000;\"> Por Lucas Gregolon e Suzielli Martins Mendonça, com base no trabalho de QWorld e IBM. </h3>\n",
    "<h4 <a href=\"https://qworld.net/qbook101/\"></a> https://qworld.net/qbook101/ e https://docs.quantum.ibm.com/guides/hello-world </h4>"
   ]
  },
  {
   "cell_type": "markdown",
   "id": "625e6eb7-e7c5-4f03-8e29-bc365912e3cc",
   "metadata": {},
   "source": [
    "<font style=\"font-size:28px;\" align=\"left\"><b>Um Bit</b></font>\n",
    "<br>"
   ]
  },
  {
   "cell_type": "markdown",
   "id": "4deebabd-5734-4516-a97e-3d1753c6b261",
   "metadata": {},
   "source": [
    "Na vida diária, usamos o sistema numérico decimal. Também é chamado de sistema de base 10, porque temos 10 dígitos:\n",
    "\n",
    "$ 0,~1,~2,~3,~4,~5,~6,~7,~8 $ e $ 9 $.\n",
    "\n",
    "Já na Ciência da Computação, o sistema largamente utilizado é o binário, que possui apenas dois dígitos:\n",
    "\n",
    "$0$ e $1$.\n",
    "\n",
    "Bit (ou dígito binário, <i> binary digit </i>) é a unidade básica de informação usada na Ciência da Computação e na Teoria da Informação. \n",
    "\n",
    "Também pode ser vista como a menor unidade de memória “útil”, que possui dois estados denominados 0 e 1. \n",
    "\n",
    "A qualquer momento, um bit pode estar no estado 0 ou no estado 1."
   ]
  },
  {
   "cell_type": "markdown",
   "id": "fdd18a2b-37a0-4099-9a1f-925d5288d613",
   "metadata": {},
   "source": [
    "<h3> Quatro operadores </h3>\n",
    "\n",
    "Quantos operadores diferentes podem ser definidos em um único bit?\n",
    "\n",
    "<i>Um operador, dependendo do estado atual do bit, atualiza o estado do bit (o resultado pode ser o mesmo estado).</i> \n",
    "\n",
    "Podemos aplicar quatro operadores diferentes a um único bit:\n",
    "<ol>\n",
    "    <li> Identidade: $ I(0) = 0 $ e $ I(1) = 1 $ </li>\n",
    "    <li> Negação: $ NOT(0) = 1 $ e $ NOT(1) = 0 $ </li>\n",
    "    <li> Constante (Zero): $ ZERO(0) = 0 $ e $ ZERO(1) = 0 $ </li>\n",
    "    <li> Constante (Um): $ ONE(0) = 1 $ e $ ONE(1) = 1 $ </li>\n",
    "</ol>\n",
    "O primeiro operador é denominado IDENTITY (IDENTIDADE), pois não altera o conteúdo/valor do bit.\n",
    "\n",
    "O segundo operador é denominado NOT (NÂO) porque nega (inverte) o valor do bit. \n",
    "\n",
    "<i>Observe que 0 e 1 também se referem aos valores booleanos False (Falso) e True (Verdadeiro), respectivamente, e False (Falso) é a negação de True (Verdadeiro), enquanto True (Verdadeiro) é a negação de False (Falso).</i>\n",
    "\n",
    "O terceiro (quarto) operador retorna um valor constante 0 (1), qualquer que seja a entrada."
   ]
  },
  {
   "cell_type": "markdown",
   "id": "b526305e-cf9f-4f76-843f-d3e3ef35a42c",
   "metadata": {},
   "source": [
    "<h3> Representação de tabela </h3>\n",
    "\n",
    "Nas nossas representações, a direção das transições é de cima para a esquerda, ou seja, os estados iniciais estão no topo e os estados finais estão à esquerda:\n",
    "\n",
    "$\n",
    "    \\begin{array}{c|c}\n",
    "        & estados\\ iniciais \\\\ \\hline\n",
    "        estados\\ finais&\\hookleftarrow\n",
    "    \\end{array}\n",
    "$\n",
    "\n",
    "Podemos representar as transições de cada operador por uma tabela:\n",
    "\n",
    "$\n",
    "I = \\begin{array}{lc|cc} \n",
    "     && estados & iniciais \\\\ \n",
    "    & \\hookleftarrow & \\mathbf{0} & \\mathbf{1} \\\\ \\hline \n",
    "    estados & \\mathbf{0} & \\mbox{vai para} & \\emptyset \\\\  \n",
    "    finais & \\mathbf{1} & \\emptyset & \\mbox{vai para} \\end{array} ,\n",
    "$\n",
    "onde \n",
    "- o cabeçalho (primeira linha) representa os valores iniciais, e\n",
    "- a primeira coluna representa os valores finais.\n",
    "\n",
    "\n",
    "\n",
    "Também podemos definir as transições numericamente:\n",
    "- usamos 1 se houver uma transição entre dois estados e, \n",
    "- usamos 0 se não houver transição entre dois estados.\n",
    "\n",
    "$\n",
    "I = \\begin{array}{lc|cc} \n",
    "    && estados & iniciais \\\\ \n",
    "    & \\hookleftarrow & \\mathbf{0} & \\mathbf{1} \\\\ \\hline \n",
    "    estados & \\mathbf{0} & 1 & 0 \\\\  \n",
    "    finais & \\mathbf{1} & 0 & 1 \\end{array}\n",
    "$"
   ]
  },
  {
   "cell_type": "markdown",
   "id": "7b1d3754-e297-4794-9f2e-9999fb1190d5",
   "metadata": {},
   "source": [
    "Os valores em <b>negrito</b> são os valores inicial e final dos bits. Os valores sem negrito representam as transições.\n",
    "<ul>\n",
    "    <li> O 1 sem negrito no canto superior esquerdo representa a transição $ 0 \\rightarrow 0 $. </li>\n",
    "    <li> O 1 sem negrito no canto inferior direito representa a transição $ 1 \\rightarrow 1 $. </li> \n",
    "    <li> O 0 sem negrito no canto superior direito significa que não há transição de 1 para 0. </li>\n",
    "    <li> O 0 sem negrito no canto inferior esquerdo significa que não há transição de 0 para 1. </li>\n",
    "</ul>\n",
    "O leitor pode pensar que os valores 0 e 1 representam as transições como False (Off) e True (On), respectivamente. \n",
    "\n",
    "Da mesma forma, podemos representar os outros operadores conforme abaixo:\n",
    "\n",
    "$$\n",
    "NOT = \\begin{array}{lc|cc} & & estados & iniciais \\\\ & \\hookleftarrow & \\mathbf{0} & \\mathbf{1} \\\\ \\hline estados & \\mathbf{0} & 0 & 1 \\\\  \n",
    "    finais & \\mathbf{1} & 1 & 0  \\end{array},\n",
    "$$\n",
    "$$\n",
    "ZERO = \\begin{array}{lc|cc} & & estados & iniciais \\\\ & \\hookleftarrow & \\mathbf{0} & \\mathbf{1} \\\\ \\hline estados & \\mathbf{0} & 1 & 1 \\\\  \n",
    "    finais & \\mathbf{1} & 0 & 0 \\end{array},\n",
    "$$\n",
    "$$\n",
    "ONE = \\begin{array}{lc|cc} & & estados & iniciais \\\\ & \\hookleftarrow & \\mathbf{0} & \\mathbf{1} \\\\ \\hline estados & \\mathbf{0} & 0 & 0 \\\\  \n",
    "    finais & \\mathbf{1} & 1 & 1 \\end{array}.\n",
    "$$"
   ]
  },
  {
   "cell_type": "markdown",
   "id": "bb61aa2d-d195-4d86-8fc9-bb8d738861c5",
   "metadata": {},
   "source": [
    "<h3> Tarefa 1 </h3>\n",
    "\n",
    "Convença-se da correção de cada tabela.\n",
    "\n",
    "Lembre-se de que a direção das transições é de cima para a esquerda:\n",
    "\n",
    "$\n",
    "    \\begin{array}{c|c}\n",
    "        & estados\\ iniciais \\\\ \\hline\n",
    "        estados\\ finais &\\hookleftarrow\n",
    "    \\end{array}\n",
    "$"
   ]
  },
  {
   "cell_type": "markdown",
   "id": "29982c8b-8689-4db6-97e2-077efc0024ee",
   "metadata": {},
   "source": [
    "<h3> Reversibilidade e Irreversibilidade </h3>\n",
    "\n",
    "Depois de aplicar o operador Identity ou NOT, podemos determinar facilmente o valor inicial verificando o valor final. \n",
    "<ul>\n",
    "    <li> No caso do operador Identity, simplesmente temos o mesmo valor. </li>\n",
    "    <li> No caso do operador NOT, temos o outro valor, ou seja, se o valor final for 0 (1), então dizemos 1 (0). </li>\n",
    "</ul>\n",
    "\n",
    "Porém, não podemos saber o valor inicial verificando o valor final após aplicar o operador ZERO ou ONE. \n",
    "\n",
    "Com base nesta observação, podemos classificar os operadores em dois tipos: <i>Reversíveis</i> e <i>Irreversíveis</i>.\n",
    "<ul>\n",
    "    <li> Se pudermos recuperar o(s) valor(es) inicial(is) do(s) valor(es) final(is), então o operador é chamado de reversível como os operadores Identity e NOT. </li>\n",
    "    <li> Se não pudermos saber o(s) valor(es) inicial(is) do(s) valor(es) final(is), então o operador é chamado de irreversível como os operadores ZERO e ONE. </li>\n",
    "</ul>\n",
    "\n",
    "<b> Esta classificação é importante, pois os operadores de evolução quântica são reversíveis </b> (desde que o sistema esteja fechado).\n",
    "\n",
    "Os operadores Identity e NOT são dois operadores quânticos fundamentais."
   ]
  }
 ],
 "metadata": {
  "kernelspec": {
   "display_name": "Python 3 (ipykernel)",
   "language": "python",
   "name": "python3"
  },
  "language_info": {
   "codemirror_mode": {
    "name": "ipython",
    "version": 3
   },
   "file_extension": ".py",
   "mimetype": "text/x-python",
   "name": "python",
   "nbconvert_exporter": "python",
   "pygments_lexer": "ipython3",
   "version": "3.11.7"
  }
 },
 "nbformat": 4,
 "nbformat_minor": 5
}
