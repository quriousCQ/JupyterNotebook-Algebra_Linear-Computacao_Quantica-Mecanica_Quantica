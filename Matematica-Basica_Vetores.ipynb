{
 "cells": [
  {
   "cell_type": "markdown",
   "id": "dceba413-e473-4f84-9e5c-1d0135c9d06e",
   "metadata": {},
   "source": [
    "<h1 align=\"left\" style=\"color:#3149b5;\"> QURIOUS - COMPUTAÇÃO QUÂNTICA </h1>\n",
    "<h2 align=\"left\" style=\"color:#3149b5;\"> Álgebra Linear para Computação Quântica e Mecânica Quântica </h2>\n",
    "<h3 align=\"left\" style=\"color:#000000;\"> Por Lucas Gregolon e Suzielli Martins Mendonça, com base no trabalho de QWorld e IBM. </h3>\n",
    "<h4 <a href=\"https://qworld.net/qbook101/\"></a> https://qworld.net/qbook101/ e https://docs.quantum.ibm.com/guides/hello-world </h4>"
   ]
  },
  {
   "cell_type": "markdown",
   "id": "63aa2f6b-9603-49e6-adb0-d0efc553140e",
   "metadata": {},
   "source": [
    "<font style=\"font-size:28px;\" align=\"left\"><b>Vetores: Listas Unidimensionais</b></font>\n",
    "<br>"
   ]
  },
  {
   "cell_type": "markdown",
   "id": "72cde0e3-a37c-4e24-8d0f-639d845c8b2e",
   "metadata": {},
   "source": [
    "Um <b>vetor</b> é uma lista de números. \n",
    "\n",
    "Os vetores são muito úteis para descrever o estado de um sistema, como veremos no tutorial principal. \n",
    "\n",
    "Uma lista é um único objeto em Python.\n",
    "\n",
    "Da mesma forma, um vetor é um único objeto matemático. \n",
    "\n",
    "O número de elementos em uma lista é seu tamanho, ou comprimento.\n",
    "\n",
    "Da mesma forma, o número de entradas em um vetor é chamado de <b>tamanho</b> ou <b>dimensão</b> do vetor."
   ]
  },
  {
   "cell_type": "code",
   "execution_count": 26,
   "id": "62da75e7-1735-46b3-ac68-5b30e574d90f",
   "metadata": {},
   "outputs": [
    {
     "name": "stdout",
     "output_type": "stream",
     "text": [
      "[1, -2, 0, 5]\n"
     ]
    }
   ],
   "source": [
    "# considere a seguinte lista com 4 elementos \n",
    "L = [1,-2,0,5]\n",
    "print(L)"
   ]
  },
  {
   "cell_type": "markdown",
   "id": "a5d9f326-d646-4be5-872c-ba807af486a3",
   "metadata": {},
   "source": [
    "Os vetores podem estar em formato horizontal ou vertical.\n",
    "\n",
    "Mostramos esta lista como um <b>vetor coluna</b> <i><u>quadridimensional</u></i> (vertical) ou um <b>vetor linha</b> <i><u>quadridimensional</u></i> (horizontal) :\n",
    "\n",
    "$$\n",
    "u = \\begin{pmatrix} 1 \\\\ -2 \\\\ 0 \\\\ 5 \\end{pmatrix},\\ \\text{ou}\\ v = \\begin{pmatrix} 1 & -2 & 0 & 5 \\end{pmatrix},\\ \\text{respectivamente}.\n",
    "$$\n",
    "\n",
    "Observe que não precisamos usar nenhuma vírgula na representação vetorial."
   ]
  },
  {
   "cell_type": "markdown",
   "id": "292ad1b8-de42-40ff-a421-68d91aa43540",
   "metadata": {},
   "source": [
    "<h3> Multiplicando um vetor por um número</h3>\n",
    "\n",
    "Um vetor pode ser multiplicado por um número.\n",
    "\n",
    "A multiplicação de um vetor por um número também é um vetor: cada entrada é multiplicada por esse númer\n",
    "\n",
    "$$\n",
    "3 \\cdot v = 3 \\cdot \\begin{pmatrix} 1 \\\\ -2 \\\\ 0 \\\\ 5 \\end{pmatrix} = \\begin{pmatrix} 3 \\\\ -6 \\\\ 0 \\\\ 15 \\end{pmatrix},\n",
    "$$\n",
    "ou\n",
    "$$\n",
    "(-0,6) \\cdot v = (-0,6) \\cdot \\begin{pmatrix} 1 \\\\ -2 \\\\ 0 \\\\ 5 \\end{pmatrix} = \\begin{pmatrix} -0,6 \\\\ 1,2 \\\\ 0 \\\\ -3 \\end{pmatrix}.\n",
    "$$$$Podemos considerar isso como aumentar ou diminuir as entradas de um vetor.\n",
    "\n",
    "Verificamos nossos cálculos em Python."
   ]
  },
  {
   "cell_type": "code",
   "execution_count": 27,
   "id": "b5a4365e-4c7a-4def-be40-0e870c8dbd49",
   "metadata": {},
   "outputs": [
    {
     "name": "stdout",
     "output_type": "stream",
     "text": [
      "v é [1, -2, 0, 5]\n",
      "3*v é [3, -6, 0, 15]\n",
      "-0.6*v é [-0.6, 1.2, -0.0, -3.0]\n"
     ]
    }
   ],
   "source": [
    "# 3 * v\n",
    "v = [1,-2,0,5]\n",
    "print(\"v é\",v)\n",
    "# usamos a mesma lista para o resultado\n",
    "for i in range(len(v)):\n",
    "    v[i] = 3 * v[i]\n",
    "print(\"3*v é\",v)\n",
    "\n",
    "# -0.6 * u\n",
    "# reinicializamos a lista v\n",
    "v = [1,-2,0,5]\n",
    "for i in range(len(v)):\n",
    "    v[i] = -0.6 * v[i]\n",
    "print(\"-0.6*v é\",v)"
   ]
  },
  {
   "cell_type": "markdown",
   "id": "c3c091f8-8328-4097-9320-722e72722e3e",
   "metadata": {},
   "source": [
    "<h3> Soma de vetores</h3>\n",
    "\n",
    "Dois vetores (com a mesma dimensão) podem ser somados.\n",
    "\n",
    "A soma de dois vetores é um vetor: os números nas mesmas entradas são somado\n",
    "\n",
    "$$\n",
    "u = \\begin{pmatrix} -3 \\\\ -2 \\\\ 0 \\\\ -1 \\\\ 4 \\end{pmatrix}\\ \\text{e}\\ v = \\begin{pmatrix} -1 \\\\ -1 \\\\ 2 \\\\ -3 \\\\ 5 \\end{pmatrix}.\n",
    "$$\n",
    "\n",
    "Então\n",
    "\n",
    "$$\n",
    "u + v = \\begin{pmatrix} -3 \\\\ -2 \\\\ 0 \\\\ -1 \\\\ 4 \\end{pmatrix} + \\begin{pmatrix} -1\\\\ -1 \\\\2 \\\\ -3 \\\\ 5 \\end{pmatrix} = \\begin{pmatrix} -3 + (-1) \\\\ -2 + (-1) \\\\ 0 + 2 \\\\ -1 + (-3) \\\\ 4 + 5 \\end{pmatrix} = \\begin{pmatrix} -4 \\\\ -3 \\\\ 2 \\\\ -4 \\\\ 9 \\end{pmatrix}\n",
    "$$\n",
    "\n",
    "Fazemos os mesmos cálculos em Python."
   ]
  },
  {
   "cell_type": "code",
   "execution_count": 36,
   "id": "c26660e4-fc5c-40d8-baf9-6e7ff2941955",
   "metadata": {},
   "outputs": [
    {
     "name": "stdout",
     "output_type": "stream",
     "text": [
      "u+v é [-4, -3, 2, -4, 9]\n",
      "\n",
      "os elementos de u+v são\n",
      "-4\n",
      "-3\n",
      "2\n",
      "-4\n",
      "9\n"
     ]
    }
   ],
   "source": [
    "u = [-3,-2,0,-1,4]\n",
    "v = [-1,-1,2,-3,5]\n",
    "result=[]\n",
    "for i in range(len(u)):\n",
    "    result.append(u[i]+v[i])\n",
    "\n",
    "print(\"u+v é\",result)\n",
    "\n",
    "# imprime o vetor resultante similar a um vetor colula\n",
    "print() # imprime uma linha vazia\n",
    "print(\"os elementos de u+v são\")\n",
    "for j in range(len(result)):\n",
    "    print(result[j])"
   ]
  },
  {
   "cell_type": "markdown",
   "id": "aca94a57-7bc6-4066-b158-fe5cb4c88e32",
   "metadata": {},
   "source": [
    "<h3> Tarefa 1 </h3>\n",
    "\n",
    "Crie dois vetores de 7 dimensões, $u$ e $v$, como duas listas diferentes em Python, com entradas escolhidas aleatoriamente entre $-10$ e $10$. \r\n",
    "\r\n",
    "Imprima suas entradas."
   ]
  },
  {
   "cell_type": "markdown",
   "id": "007d6746-7040-4401-8e61-63efb9e9eabf",
   "metadata": {},
   "source": [
    "<h3>Resposta 1</h3>"
   ]
  },
  {
   "cell_type": "code",
   "execution_count": 44,
   "id": "e3b5fcbf-a9cc-4635-bc7e-ae003d813208",
   "metadata": {},
   "outputs": [
    {
     "name": "stdout",
     "output_type": "stream",
     "text": [
      "u é [10, -9, -8, -4, 4, -3, 6]\n",
      "v é [-9, 9, 9, 6, 4, -1, -3]\n"
     ]
    }
   ],
   "source": [
    "from random import randrange\n",
    "\n",
    "dimensao = 7\n",
    "\n",
    "# cria u e v como listas vazias \n",
    "u = []\n",
    "v = []\n",
    "\n",
    "for i in range(dimensao):\n",
    "    u.append(randrange(-10,11)) # adiciona um número escolhido aleatoriamente à lista u\n",
    "    v.append(randrange(-10,11)) # adiciona um número escolhido aleatoriamente à lista v\n",
    "    # randrange(-10,11) escolhe um número aleatório entre {-10,-9,...,-1,0,1,...,9,10}\n",
    "\n",
    "# imprimir as listas\n",
    "print(\"u é\",u)\n",
    "print(\"v é\",v)"
   ]
  },
  {
   "cell_type": "markdown",
   "id": "960c05cd-3d68-43a6-b401-99a88c9d558a",
   "metadata": {},
   "source": [
    "<h3> Tarefa 2 </h3>\n",
    "\n",
    "Usando os mesmos vetores, encontre o vetor $(3 u - 2 v)$ e imprima suas entradas. Aqui, $ 3u $ e $ 2v $ significam que $u$ e $v$ são multiplicados por $3$ e $2$, respectivamente."
   ]
  },
  {
   "cell_type": "markdown",
   "id": "6ce67cd6-34e4-471a-b014-368639d70d9b",
   "metadata": {},
   "source": [
    "<h3>Resposta 2</h3>"
   ]
  },
  {
   "cell_type": "code",
   "execution_count": 54,
   "id": "4d34c283-4c31-4f3c-a28c-5313cf834e6c",
   "metadata": {},
   "outputs": [
    {
     "name": "stdout",
     "output_type": "stream",
     "text": [
      "usando o primeiro método, o vetor resultante é iniciado em [0, 0, 0, 0, 0, 0, 0]\n",
      "usando o segundo método, o vetor resultante é iniciado em [0, 0, 0, 0, 0, 0, 0]\n",
      "u é [10, -9, -8, -4, 4, -3, 6]\n",
      "v é [-9, 9, 9, 6, 4, -1, -3]\n",
      "3u - 2v é [48, -45, -42, -24, 4, -7, 24]\n"
     ]
    }
   ],
   "source": [
    "# execute a célula da Tarefa 1 para definir u e v\n",
    "# cria uma lista de resultados\n",
    "\n",
    "# o primeiro método\n",
    "resultado=[]\n",
    "\n",
    "# preencha com zeros\n",
    "for i in range(dimensao): \n",
    "    resultado.append(0)\n",
    "    \n",
    "print(\"usando o primeiro método, o vetor resultante é iniciado em\",resultado)\n",
    "\n",
    "# o segundo método\n",
    "# solução alternativa e mais curta para criar uma lista com zeros\n",
    "resultado = [0] * dimensao\n",
    "\n",
    "print(\"usando o segundo método, o vetor resultante é iniciado em\",resultado)\n",
    "\n",
    "# calcular 3u - 2v\n",
    "for i in range(dimensao):\n",
    "    resultado[i] = 3 * u[i] - 2 * v[i]\n",
    "\n",
    "# imprimir todas as listas\n",
    "print(\"u é\",u)\n",
    "print(\"v é\",v)\n",
    "print(\"3u - 2v é\",resultado)"
   ]
  },
  {
   "cell_type": "markdown",
   "id": "73cfe211-a439-4101-8155-a50a7f1673ea",
   "metadata": {
    "jp-MarkdownHeadingCollapsed": true
   },
   "source": [
    "<h3> Visualização de vetores </h3>\n",
    "\n",
    "Podemos visualizar os vetores com dimensão máxima 3. \n",
    "\n",
    "Para simplificar, damos exemplos de vetores bidimensionais. \n",
    "\n",
    "Considere o vetor $ v = \\begin{pmatrix} 1 \\\\ 2 \\end{pmatrix} $. \n",
    "\n",
    "Um vetor bidimensional pode ser representado no plano bidimensional por uma seta começando na origem $(0,0)$ até o ponto $(1,2)$."
   ]
  },
  {
   "cell_type": "markdown",
   "id": "026a76cb-7075-42e6-99f5-c7c17adfdf39",
   "metadata": {},
   "source": [
    "<h3>fazer desenho plano exemplo1</h3>"
   ]
  },
  {
   "cell_type": "markdown",
   "id": "3f19fcc1-5e57-4e26-87e4-19dda31a099a",
   "metadata": {},
   "source": [
    "Representamos os vetores $ 2v =  \\begin{pmatrix} 2 \\\\ 4 \\end{pmatrix} $ e $ -v = \\begin{pmatrix} -1 \\\\ -2 \\end{pmatrix} $ abaixo."
   ]
  },
  {
   "cell_type": "markdown",
   "id": "4e6df46c-1adf-4d34-9bb4-deb420eb1279",
   "metadata": {},
   "source": [
    "<h3>fazer desenho plano exemplo2</h3>"
   ]
  },
  {
   "cell_type": "markdown",
   "id": "b27dd1d3-5a94-483e-88f1-bca05fc2e109",
   "metadata": {},
   "source": [
    "Como podemos observar, após multiplicar por 2, o vetor é ampliado, e, após multiplicar por $(-1)$, o vetor é o mesmo, mas sua direção é oposta."
   ]
  },
  {
   "cell_type": "markdown",
   "id": "e4222f41-f327-4fa0-b0b2-b312b9570f03",
   "metadata": {},
   "source": [
    "<h3> Comprimento de um vetor </h3>\n",
    "\n",
    "O comprimento de um vetor é a (menor) distância dos pontos representados pelas entradas do vetor até o ponto de origem $(0,0)$.\n",
    "\n",
    "O comprimento de um vetor pode ser calculado usando o Teorema de Pitágoras. \n",
    "\n",
    "Visualizamos um vetor, seu comprimento e as contribuições de cada entrada para o comprimento. \n",
    "\n",
    "Considere o vetor $ u = \\begin{pmatrix} -3 \\\\ 4 \\end{pmatrix} $."
   ]
  },
  {
   "cell_type": "markdown",
   "id": "a7f4d8f9-970e-45de-93a7-0bed2f2cf9f9",
   "metadata": {},
   "source": [
    "<h3>fazer desenho plano exemplo3</h3>"
   ]
  },
  {
   "cell_type": "markdown",
   "id": "4268ea44-1db8-4064-bd3d-b268b2a2aadd",
   "metadata": {},
   "source": [
    "O comprimento de $ u $ é denotado como $ \\Vert u \\Vert $ e é calculado como $ \\Vert u \\Vert =\\sqrt{(-3)^2+4^2} = 5 $. \n",
    "\n",
    "Aqui cada entrada contribui com seu valor quadrado. Todas as contribuições são resumidas. Então, obtemos o quadrado do comprimento. \n",
    "\n",
    "Esta fórmula é generalizada para qualquer dimensão. \n",
    "\n",
    "Encontramos o comprimento do seguinte vetor usando Python:\n",
    " \n",
    "$$\n",
    "    v = \\begin{pmatrix} -1 \\\\ -3 \\\\ 5 \\\\ 3 \\\\ 1 \\\\ 2 \\end{pmatrix}\n",
    "    ~~~~~~~~~~\n",
    "    \\mbox{e}\n",
    "    ~~~~~~~~~~\n",
    "    \\Vert v \\Vert = \\sqrt{(-1)^2+(-3)^2+5^2+3^2+1^2+2^2} .\n",
    "$$"
   ]
  },
  {
   "cell_type": "markdown",
   "id": "f9f4144d-3ee7-49c8-b266-1453fabc7228",
   "metadata": {},
   "source": [
    "<div style=\"font-style:italic;background-color:#fafafa;font-size:10pt;\"> Lembre-se: existe uma maneira resumida de escrever operações poderosas em Python. \n",
    "    <ul>\n",
    "        <li> Em sua forma genérica: $ a^x $ pode ser denotado por $ a ** x $ em Python. </li>\n",
    "        <li> O quadrado de um número $a$: $ a^2 $ pode ser denotado por $ a ** 2 $ em Python. </li>\n",
    "        <li> A raiz quadrada de um número $ a $: $ \\sqrt{a} = a^{\\frac{1}{2}} = a^{0,5} $ pode ser denotada por $ a ** 0,5 $ em Python.</li>\n",
    "    </ul>\n",
    "</div>"
   ]
  },
  {
   "cell_type": "code",
   "execution_count": 56,
   "id": "6725c448-35bb-4f92-818c-e17e19724752",
   "metadata": {},
   "outputs": [
    {
     "name": "stdout",
     "output_type": "stream",
     "text": [
      "-1 ao quadrado -> 1\n",
      "-3 ao quadrado -> 9\n",
      "5 ao quadrado -> 25\n",
      "3 ao quadrado -> 9\n",
      "1 ao quadrado -> 1\n",
      "2 ao quadrado -> 4\n",
      "a soma é 49\n",
      "então o comprimento é 7.0\n",
      "\n",
      "a raiz quadrada de 49 é 7.0\n"
     ]
    }
   ],
   "source": [
    "v = [-1,-3,5,3,1,2]\n",
    "\n",
    "length_square=0\n",
    "for i in range(len(v)):\n",
    "    print(v[i],\"ao quadrado ->\",v[i]**2) # imprime cada entrada e seu valor quadrado\n",
    "    length_square = length_square + v[i]**2 # soma o quadrado de cada entrada\n",
    "\n",
    "length = length_square ** 0.5 # extrai a raiz quadrada da soma dos quadrados de todas as entradas\n",
    "print(\"a soma é\",length_square)\n",
    "print(\"então o comprimento é\",length)\n",
    "\n",
    "# para raiz quadrada, também podemos usar a função integrada math.sqrt\n",
    "print() # imprime uma linha vazia\n",
    "from math import sqrt\n",
    "print(\"a raiz quadrada de\",length_square,\"é\",sqrt(length_square))"
   ]
  },
  {
   "cell_type": "markdown",
   "id": "2fb8db13-7e65-441d-ad0b-f7b7acdfd276",
   "metadata": {},
   "source": [
    "<h3> Tarefa 3 </h3>\n",
    "\n",
    "Seja $ \\begin{pmatrix} 1 \\\\ -2 \\\\ -4 \\\\ 2 \\end{pmatrix} $ um vetor quadridimensional.\n",
    "\n",
    "Verifique que $ \\Vert 4 u \\Vert = 4 \\cdot \\Vert u \\Vert $ em Python. \n",
    "\n",
    "Observe que $4u$ é outro vetor obtido de $u$ multiplicando-o por 4."
   ]
  },
  {
   "cell_type": "markdown",
   "id": "4a8dbc18-455d-4e92-8d5f-2212e027f357",
   "metadata": {},
   "source": [
    "<h3>Resposta 3</h3>"
   ]
  },
  {
   "cell_type": "code",
   "execution_count": 66,
   "id": "2b5ef2b1-4434-4989-98ee-0a484a45a147",
   "metadata": {},
   "outputs": [
    {
     "name": "stdout",
     "output_type": "stream",
     "text": [
      "o comprimento de u é 5.0\n",
      "4 * o comprimento de u é 20.0\n",
      "o comprimento de 4u é 20.0\n"
     ]
    }
   ],
   "source": [
    "u = [1,-2,-4,2]\n",
    "quatro_u=[4,-8,-16,8]\n",
    "\n",
    "tam_u = 0\n",
    "tam_quatro_u = 0\n",
    "\n",
    "for i in range(len(u)):\n",
    "    tam_u = tam_u + u[i]**2 # somando o quadrado de cada valor \n",
    "    tam_quatro_u = tam_quatro_u + quatro_u[i]**2 # somando o quadrado de cada valor\n",
    "\n",
    "tam_u = tam_u ** 0.5 # tirando a raiz quadrada da soma\n",
    "tam_quatro_u = tam_quatro_u ** 0.5 # tirando a raiz quadrada da soma\n",
    "\n",
    "# imprime os comprimentos\n",
    "print(\"o comprimento de u é\",tam_u)\n",
    "print(\"4 * o comprimento de u é\",4 * tam_u)\n",
    "print(\"o comprimento de 4u é\",tam_quatro_u)"
   ]
  },
  {
   "cell_type": "markdown",
   "id": "a63c606d-86f3-4a88-bf91-0b9cc872ffb4",
   "metadata": {},
   "source": [
    "<h3> Notas:</h3>\n",
    "\n",
    "Quando um vetor é multiplicado por um número, seu comprimento também é multiplicado pelo mesmo número.\n",
    "\n",
    "Mas devemos ter cuidado com o sinal.\n",
    "\n",
    "Considere o vetor $-3 v$. Tem o mesmo comprimento de $3v$, mas sua direção é oposta.\n",
    "\n",
    "Portanto, ao calcular o comprimento de $-3 v$, usamos o valor absoluto do número:\n",
    "\n",
    "$ \\Vert -3 v \\Vert = |-3| \\cdot \\Vert v \\Vert = 3 \\cdot \\Vert v \\Vert $.\n",
    "\n",
    "Aqui $ |-3| $ é o valor absoluto de $ -3$. \n",
    "\n",
    "O valor absoluto de um número é sua distância até 0. Portanto, $ |-3| = 3$."
   ]
  },
  {
   "cell_type": "markdown",
   "id": "57f0b899-3cb8-429e-b4a3-1859380f0d1b",
   "metadata": {},
   "source": [
    "<h3> Tarefa 4 </h3>\n",
    "\n",
    "Seja $ u = \\begin{pmatrix} 1 \\\\ -2 \\\\ -4 \\\\ 2 \\end{pmatrix} $ um vetor quadridimensional.\n",
    "\n",
    "Escolha aleatoriamente um número $r$ entre $ \\left\\{ \\dfrac{1}{10}, \\dfrac{2}{10}, \\cdots, \\dfrac{9}{10} \\right\\} $.\n",
    "\n",
    "Encontre o vetor $(-r)\\cdot u$ e seu comprimento."
   ]
  },
  {
   "cell_type": "markdown",
   "id": "da92b2c3-fee5-480a-bf4a-8ff024ef0853",
   "metadata": {},
   "source": [
    "<h3>Resposta 4</h3>"
   ]
  },
  {
   "cell_type": "code",
   "execution_count": 74,
   "id": "04541fe4-4d13-4066-b964-0b9631b3bf29",
   "metadata": {},
   "outputs": [
    {
     "name": "stdout",
     "output_type": "stream",
     "text": [
      "u é [1, -2, -4, 2]\n",
      "\n",
      "r é 0.3\n",
      "\n",
      "-ru é [-0.3, 0.6, 1.2, -0.6]\n",
      "\n",
      "-0.3 -> [ao quadrado] -> 0.09\n",
      "0.6 -> [ao quadrado] -> 0.36\n",
      "1.2 -> [ao quadrado] -> 1.44\n",
      "-0.6 -> [ao quadrado] -> 0.36\n",
      "\n",
      "a soma dos quadrados é 2.25\n",
      "o tamanho de [-0.3, 0.6, 1.2, -0.6] é 1.5\n"
     ]
    }
   ],
   "source": [
    "from random import randrange\n",
    "\n",
    "u = [1,-2,-4,2]\n",
    "\n",
    "print(\"u é\",u)\n",
    "\n",
    "r = randrange(9) # r é um número entre {0,...,8}\n",
    "r = r + 1 # r é um número entre {1,...,9}\n",
    "r = r/10 # r é um número entre {1/10,...,9/10}\n",
    "\n",
    "print()\n",
    "print(\"r é\",r)\n",
    "\n",
    "novo_u=[]\n",
    "\n",
    "for i in range(len(u)):\n",
    "    novo_u.append(-1*r*u[i])\n",
    "\n",
    "print()   \n",
    "print(\"-ru é\",novo_u)\n",
    "print()\n",
    "\n",
    "tamanho = 0\n",
    "\n",
    "for i in range(len(novo_u)):\n",
    "    tamanho = tamanho + novo_u[i]**2 # somando o quadrado de cada número\n",
    "    print(novo_u[i],\"-> [ao quadrado] ->\",novo_u[i]**2)\n",
    "    \n",
    "print()    \n",
    "print(\"a soma dos quadrados é\",tamanho)    \n",
    "tamanho = tamanho**0.5 # tirando raiz quadrada\n",
    "print(\"o tamanho de\",novo_u,\"é\",tamanho)"
   ]
  },
  {
   "cell_type": "markdown",
   "id": "aa887781-c445-4fd6-ae28-36f8e12ed3bc",
   "metadata": {},
   "source": [
    "Observe que:\n",
    "\n",
    "O comprimento de $u$ é 5.\n",
    "\n",
    "O comprimento de $(-r)u$ será de $5r$."
   ]
  }
 ],
 "metadata": {
  "kernelspec": {
   "display_name": "Python 3 (ipykernel)",
   "language": "python",
   "name": "python3"
  },
  "language_info": {
   "codemirror_mode": {
    "name": "ipython",
    "version": 3
   },
   "file_extension": ".py",
   "mimetype": "text/x-python",
   "name": "python",
   "nbconvert_exporter": "python",
   "pygments_lexer": "ipython3",
   "version": "3.11.7"
  }
 },
 "nbformat": 4,
 "nbformat_minor": 5
}
