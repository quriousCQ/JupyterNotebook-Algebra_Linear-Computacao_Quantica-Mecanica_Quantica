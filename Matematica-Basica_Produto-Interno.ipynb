{
 "cells": [
  {
   "cell_type": "markdown",
   "id": "581b0c24-eaf4-4867-83cf-9ca95158ca8a",
   "metadata": {},
   "source": [
    "<h1 align=\"left\" style=\"color:#3149b5;\"> QURIOUS - COMPUTAÇÃO QUÂNTICA </h1>\n",
    "<h2 align=\"left\" style=\"color:#3149b5;\"> Álgebra Linear para Computação Quântica e Mecânica Quântica </h2>\n",
    "<h3 align=\"left\" style=\"color:#000000;\"> Por Lucas Gregolon e Suzielli Martins Mendonça, com base no trabalho de QWorld e IBM. </h3>\n",
    "<h4 <a href=\"https://qworld.net/qbook101/\"></a> https://qworld.net/qbook101/ e https://docs.quantum.ibm.com/guides/hello-world </h4>"
   ]
  },
  {
   "cell_type": "markdown",
   "id": "b333bc41-9e41-443f-ae89-6126bfff3ac1",
   "metadata": {},
   "source": [
    "<font style=\"font-size:28px;\" align=\"left\"><b>Vetores: Produto Interno (Escalar)</b></font>\n",
    "<br>"
   ]
  },
  {
   "cell_type": "markdown",
   "id": "e60f49d1-7420-4ceb-91fd-14c5226cc245",
   "metadata": {},
   "source": [
    "<i>Produto interno</i> é uma forma específica de definir a multiplicação entre dois vetores do mesmo tamanho. \n",
    "\n",
    "Também é chamado de <i>produto escalar</i>, porque o resultado é um <i>valor escalar</i>, por exemplo, um número real.\n",
    "\n",
    "Considere os dois vetores a seguir:\n",
    "$$\n",
    "u = \\begin{pmatrix} -3 \\\\ -2 \\\\ 0 \\\\ -1 \\\\ 4 \\end{pmatrix} \\mbox{ e } v = \\begin{pmatrix} -1\\\\ -1 \\\\2 \\\\ -3 \\\\ 5 \\end{pmatrix}.\n",
    "$$\n",
    "\n",
    "O produto escalar de $ u $ e $ v $, denotado por $ u \\cdot v$, pode ser definido algoritmicamente.\n",
    "\n",
    "<u>Multiplicação em pares</u>: os valores nas mesmas posições são multiplicados entre si.\n",
    "\n",
    "<u>Soma de todas as multiplicações aos pares</u>: Em seguida, somamos todos os resultados obtidos nas multiplicações aos pares.\n",
    "\n",
    "Escrevemos seu código Python abaixo."
   ]
  },
  {
   "cell_type": "code",
   "execution_count": 5,
   "id": "b124946d-ae92-4d3c-b7ef-5ac90827ef83",
   "metadata": {},
   "outputs": [
    {
     "name": "stdout",
     "output_type": "stream",
     "text": [
      "a multiplicação em pares das entradas com índice 0 é 3\n",
      "a multiplicação em pares das entradas com índice 1 é 2\n",
      "a multiplicação em pares das entradas com índice 2 é 0\n",
      "a multiplicação em pares das entradas com índice 3 é 3\n",
      "a multiplicação em pares das entradas com índice 4 é 20\n",
      "\n",
      "O produto escalar de [-3, -2, 0, -1, 4] e [-1, -1, 2, -3, 5] é 28\n"
     ]
    }
   ],
   "source": [
    "# definindo os dois vetores\n",
    "u = [-3,-2,0,-1,4]\n",
    "v = [-1,-1,2,-3,5]\n",
    "\n",
    "uv = 0; # soma é inicialmente zero\n",
    "\n",
    "for i in range(len(u)): # acessar iterativamente cada par com os mesmos índices\n",
    "    print(\"a multiplicação em pares das entradas com índice\",i,\"é\",u[i]*v[i])\n",
    "    uv = uv + u[i]*v[i] # as i-ésimas entradas são multiplicadas e depois adicionadas à soma\n",
    "    \n",
    "print() # imprime uma linha vazia\n",
    "print(\"O produto escalar de\",u,'e',v,'é',uv)"
   ]
  },
  {
   "cell_type": "markdown",
   "id": "63b658e4-8b12-42a6-8398-04f2ac716b20",
   "metadata": {},
   "source": [
    "As multiplicações em pares de entradas são\n",
    "<ul>\n",
    "    <li> $ (-3)\\cdot(-1) = 3 $, </li>\n",
    "    <li> $ (-2)\\cdot(-1) = 2 $, </li>\n",
    "    <li> $ 0\\cdot 2 = 0 $, </li>\n",
    "    <li> $ (-1)\\cdot(-3) = 3 $, e, </li>\n",
    "    <li> $ 4 \\cdot 5  = 20 $. </li>\n",
    "</ul>\n",
    "\n",
    "Assim, a soma de todas as multiplicações aos pares de entradas é $ 3+2+0+3+20 = 28 $.\n",
    "\n",
    "<b>Observe que as dimensões dos vetores dados devem ser iguais. Caso contrário, o produto escalar não está definido.</b>"
   ]
  },
  {
   "cell_type": "markdown",
   "id": "4737f29c-750d-46ee-8fa6-ce21ba4c65c7",
   "metadata": {},
   "source": [
    "<h3> Tarefa 1 </h3>\n",
    "\n",
    "Encontre o produto escalar dos seguintes vetores em Python:\n",
    "\n",
    "$$\n",
    "    v = \\begin{pmatrix} -3 \\\\ 4 \\\\ -5 \\\\ 6 \\end{pmatrix} \\mbox{e}\\ u = \\begin{pmatrix} 4 \\\\ 3 \\\\ 6 \\\\ 5 \\end{pmatrix}.\n",
    "$$\n",
    "\n",
    "Seu resultado deve ser $0$."
   ]
  },
  {
   "cell_type": "markdown",
   "id": "8e20adcb-e61f-41e9-988a-9cf02735a0ea",
   "metadata": {},
   "source": [
    "<h3>Resposta 1</h3>"
   ]
  },
  {
   "cell_type": "code",
   "execution_count": 7,
   "id": "8a03b8b6-c952-4c1d-b506-74503d515763",
   "metadata": {},
   "outputs": [
    {
     "name": "stdout",
     "output_type": "stream",
     "text": [
      "[-3, 4, -5, 6] [4, 3, 6, 5] 0\n"
     ]
    }
   ],
   "source": [
    "# vamos definir os vetores\n",
    "v=[-3,4,-5,6]\n",
    "u=[4,3,6,5]\n",
    "\n",
    "vu = 0\n",
    "\n",
    "for i in range(len(v)):\n",
    "    vu = vu + v[i]*u[i]\n",
    "\n",
    "print(v,u,vu)"
   ]
  },
  {
   "cell_type": "markdown",
   "id": "10da7b5a-9db8-4028-aac1-f3cb645bfc8a",
   "metadata": {},
   "source": [
    "<h3> Tarefa 2 </h3>\n",
    "\n",
    "Seja $ u = \\begin{pmatrix} -3 \\\\ -4 \\end{pmatrix} $ um vetor bidimensional.\n",
    "\n",
    "Encontre $ u \\cdot u $ em Python."
   ]
  },
  {
   "cell_type": "markdown",
   "id": "dea62945-1d16-46fc-95d6-e9de68a41041",
   "metadata": {},
   "source": [
    "<h3>Resposta 2</h3>"
   ]
  },
  {
   "cell_type": "code",
   "execution_count": 9,
   "id": "edfaf466-255b-41cb-b76b-6903be117826",
   "metadata": {},
   "outputs": [
    {
     "name": "stdout",
     "output_type": "stream",
     "text": [
      "[-3, -4] [-3, -4] 25\n"
     ]
    }
   ],
   "source": [
    "u = [-3,-4]\n",
    "\n",
    "uu = u[0]*u[0] + u[1]*u[1]\n",
    "\n",
    "print(u,u,uu)"
   ]
  },
  {
   "cell_type": "markdown",
   "id": "46540f4e-efe0-4873-8794-8f08b5e9bccd",
   "metadata": {},
   "source": [
    "<h3> Notas:</h3>\n",
    "\n",
    "Como pode ser observado na Tarefa 2, o <b>comprimento</b> de um vetor pode ser calculado usando seu <b>produto escalar</b> consigo mesmo.\n",
    "\n",
    "$$ \\Vert u \\Vert = \\sqrt{u \\cdot u}. $$\n",
    "\n",
    "$ u \\cdot u $ é $25$, então $ \\Vert u \\Vert = \\sqrt{25} = 5 $. \n",
    "\n",
    "$ u \\cdot u $ acumula automaticamente a contribuição de cada entrada no comprimento."
   ]
  },
  {
   "cell_type": "markdown",
   "id": "ff6aa799-8092-4214-93d6-06a8e7944e94",
   "metadata": {},
   "source": [
    "<h3> Vetores ortogonais (perpendiculares) </h3>\n",
    "\n",
    "Por simplicidade, consideramos vetores bidimensionais.\n",
    "\n",
    "Os dois vetores a seguir são perpendiculares (ortogonais) entre si.\n",
    "\n",
    "O ângulo entre eles é de $ 90 $ graus."
   ]
  },
  {
   "cell_type": "markdown",
   "id": "ea319d73-5fe4-47ed-bfcf-83cf9d0e500d",
   "metadata": {},
   "source": [
    "<h3>fazer desenho produto interno exemplo1</h3>"
   ]
  },
  {
   "cell_type": "code",
   "execution_count": 13,
   "id": "b2352741-e160-42c3-a7e6-7bd111f00947",
   "metadata": {},
   "outputs": [
    {
     "name": "stdout",
     "output_type": "stream",
     "text": [
      "o produto escalar entre u e v é 0\n"
     ]
    }
   ],
   "source": [
    "# vamos encontrar o produto escalar de v e u\n",
    "v = [-4,0]\n",
    "u = [0,-5]\n",
    "resultado = 0;\n",
    "\n",
    "for i in range(2):\n",
    "    resultado = resultado + v[i]*u[i]\n",
    "\n",
    "print(\"o produto escalar entre u e v é\",resultado)"
   ]
  },
  {
   "cell_type": "markdown",
   "id": "efe3e046-11f2-4092-af29-eb2209cc0690",
   "metadata": {},
   "source": [
    "Agora, vamos verificar o produto escalar dos dois vetores a seguir:"
   ]
  },
  {
   "cell_type": "markdown",
   "id": "6c55852a-2515-4973-9cfc-7e1b85a8a2af",
   "metadata": {},
   "source": [
    "<h3>fazer desenho produto interno exemplo2</h3>"
   ]
  },
  {
   "cell_type": "code",
   "execution_count": 25,
   "id": "5093e4a8-ee7c-4253-8482-6776d3b64831",
   "metadata": {},
   "outputs": [
    {
     "name": "stdout",
     "output_type": "stream",
     "text": [
      "o produto escalar entre u e v é 0\n"
     ]
    }
   ],
   "source": [
    "# podemos usar o mesmo código\n",
    "v = [-4,3]\n",
    "u = [-3,-4]\n",
    "resultado = 0;\n",
    "\n",
    "for i in range(2):\n",
    "    resultado = resultado + v[i]*u[i]\n",
    "\n",
    "print(\"o produto escalar entre u e v é\",resultado)"
   ]
  },
  {
   "cell_type": "markdown",
   "id": "3197541f-c8fe-4925-9660-1a8a243252ae",
   "metadata": {},
   "source": [
    "O produto escalar dos novos $ u $ e $ v $ também é $ 0$. \n",
    "\n",
    "Isto não é surpreendente, porque os vetores $u$ e $v$ (em ambos os casos) são ortogonais entre si.\n",
    "\n",
    "<h3>Fato:</h3> \n",
    "<ul>\n",
    "    <li>O produto escalar de dois vetores ortogonais (perpendiculares) é zero.</li>\n",
    "    <li>Se o produto escalar de dois vetores for zero, então eles são ortogonais entre si.</li>\n",
    "</ul>\n",
    "\n",
    "<i> Este fato é importante porque, como veremos mais adiante, vetores ortogonais (estados) podem ser perfeitamente distinguidos. </i>"
   ]
  },
  {
   "cell_type": "markdown",
   "id": "0461615e-5ae1-4318-b393-4e0ce0508b16",
   "metadata": {},
   "source": [
    "<h3> Tarefa 3 </h3>\n",
    "\n",
    "Verifique que (i) $u$ é ortogonal a $-v$, (ii) $-u$ é ortogonal a $v$ e (iii) $-u$ é ortogonal a $-v$."
   ]
  },
  {
   "cell_type": "markdown",
   "id": "331a6c63-5d0f-4020-ba2a-ab7582ed4f0e",
   "metadata": {},
   "source": [
    "<h3>fazer desenho produto interno exemplo3</h3>"
   ]
  },
  {
   "cell_type": "markdown",
   "id": "b37e5683-3ab4-4fd4-ba85-c93354c14370",
   "metadata": {},
   "source": [
    "<h3>Resposta 3</h3>"
   ]
  },
  {
   "cell_type": "code",
   "execution_count": 24,
   "id": "ae2bf4c0-9237-41a2-9ddc-186e3d54394e",
   "metadata": {},
   "outputs": [
    {
     "name": "stdout",
     "output_type": "stream",
     "text": [
      "o produto escalar de u e -v ( [-3, -4]  e  [4, -3] ) é 0\n",
      "o produto escalar de -u e  v ( [3, 4]  e  [-4, 3] ) é 0\n",
      "o produto escalar de -u e -v ( [3, 4]  e  [4, -3] ) é 0\n"
     ]
    }
   ],
   "source": [
    "u = [-3,-4]\n",
    "neg_u=[3,4]\n",
    "\n",
    "v=[-4,3]\n",
    "neg_v=[4,-3]\n",
    "\n",
    "# vamos definir uma função para produto interno\n",
    "def dot(v_one,v_two):\n",
    "    soma = 0 \n",
    "    for i in range(len(v_one)):\n",
    "        soma = soma + v_one[i]*v_two[i] # somando multiplicações aos pares\n",
    "    return soma # retorna o produto interno\n",
    "\n",
    "print(\"o produto escalar de u e -v (\",u,\" e \",neg_v,\") é\",dot(u,neg_v))\n",
    "print(\"o produto escalar de -u e  v (\",neg_u,\" e \",v,\") é\",dot(neg_u,v))\n",
    "print(\"o produto escalar de -u e -v (\",neg_u,\" e \",neg_v,\") é\",dot(neg_u,neg_v))"
   ]
  },
  {
   "cell_type": "markdown",
   "id": "80cc6661-213f-4baa-9c02-7ccedf8fd668",
   "metadata": {},
   "source": [
    "<h3> Tarefa 4 </h3>\n",
    "\n",
    "Encontre o produto escalar de $ v $ e $ u $ em Python.\n",
    "\n",
    "$$\n",
    "v = \\begin{pmatrix} -1 \\\\ 2 \\\\ -3 \\\\ 4 \\end{pmatrix}\\ \\mbox{e}\\ u = \\begin{pmatrix} -2 \\\\ -1 \\\\ 5 \\\\ 2 \\end{pmatrix}.\n",
    "$$\n",
    "\n",
    "Encontre o produto escalar de $ -2v $ e $ 3u $ em Python.\n",
    "\n",
    "Compare os dois resultados."
   ]
  },
  {
   "cell_type": "code",
   "execution_count": 28,
   "id": "7cca1500-2165-4f7c-984f-d93fdb421023",
   "metadata": {},
   "outputs": [
    {
     "name": "stdout",
     "output_type": "stream",
     "text": [
      "o produto escalar de v e u é -7\n",
      "o produto escalar de -2v e 3u é 42\n"
     ]
    }
   ],
   "source": [
    "# vamos definir uma função para produto interno\n",
    "def dot(v_one,v_two):\n",
    "    soma = 0 \n",
    "    for i in range(len(v_one)):\n",
    "        soma = soma + v_one[i]*v_two[i] # somando multiplicações aos pares\n",
    "    return soma # retorna o produto interno\n",
    "\n",
    "v = [-1,2,-3,4]\n",
    "v_neg_two=[2,-4,6,-8]\n",
    "\n",
    "u=[-2,-1,5,2]\n",
    "u_three=[-6,-3,15,6]\n",
    "\n",
    "print(\"o produto escalar de v e u é\",dot(v,u))\n",
    "\n",
    "print(\"o produto escalar de -2v e 3u é\",dot(v_neg_two,u_three))"
   ]
  },
  {
   "cell_type": "markdown",
   "id": "f0e424ae-b20e-4a5f-a3a6-ccd58d5ca13f",
   "metadata": {},
   "source": [
    "Observe que:\n",
    "\n",
    "$v \\cdot u = -7 $ \n",
    "\n",
    "$ (-2v) \\cdot (3u)  = 42 = (-6) (-7) = (-2)(3) v \\cdot u $\n",
    "\n",
    "$ (-2v) \\cdot (3u) = (-2)(3) (v \\cdot u) $"
   ]
  }
 ],
 "metadata": {
  "kernelspec": {
   "display_name": "Python 3 (ipykernel)",
   "language": "python",
   "name": "python3"
  },
  "language_info": {
   "codemirror_mode": {
    "name": "ipython",
    "version": 3
   },
   "file_extension": ".py",
   "mimetype": "text/x-python",
   "name": "python",
   "nbconvert_exporter": "python",
   "pygments_lexer": "ipython3",
   "version": "3.11.7"
  }
 },
 "nbformat": 4,
 "nbformat_minor": 5
}
