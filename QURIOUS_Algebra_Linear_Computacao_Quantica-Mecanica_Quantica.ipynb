{
 "cells": [
  {
   "cell_type": "markdown",
   "id": "93f77c5f-e454-4ff1-bac3-8c2bb689b386",
   "metadata": {},
   "source": [
    "<h1 align=\"left\" style=\"color:#3149b5;\"> QURIOUS - COMPUTAÇÃO QUÂNTICA </h1>\n",
    "<h2 align=\"left\" style=\"color:#3149b5;\"> Álgebra Linear para Computação Quântica e Mecânica Quântica </h2>\n",
    "<h3 align=\"left\" style=\"color:#000000;\"> Por Lucas Gregolon e Suzielli Martins Mendonça, com base no trabalho de QWorld e IBM. </h3>\n",
    "<h4 <a href=\"https://qworld.net/qbook101/\"></a> https://qworld.net/qbook101/ e https://docs.quantum.ibm.com/guides/hello-world </h4>"
   ]
  },
  {
   "cell_type": "markdown",
   "id": "ba596fa7-e241-4bfc-9902-d0a1f994c13f",
   "metadata": {},
   "source": [
    "<h1 align=\"left\" style=\"color:#3149b5;\"> Conteúdo </h1>\n",
    "\n",
    "### Matemática básica\n",
    "\n",
    "[Vetores](Matematica-Basica_Vetores.ipynb) &nbsp;|&nbsp;\n",
    "[Produto interno](Matematica-Basica_Produto-Interno.ipynb) &nbsp;|&nbsp;\n",
    "[Matrizes](Matematica-Basica_Matrizes.ipynb) &nbsp;|&nbsp;\n",
    "[Produto Tensorial](Matematica-Basica_Produto-Tensorial.ipynb)\n",
    "\n",
    "---\n",
    "\n",
    "### Base para sistemas clássicos\n",
    "\n",
    "[Um bit](Sistemas-Classicos_Um-Bit.ipynb)  &nbsp;|&nbsp;\n",
    "[Lançamento de moeda: teoria](Sistemas-Classicos_Lancamento-Moeda.ipynb)  &nbsp;|&nbsp;\n",
    "[Lançamento de moeda: jogo](Sistemas-Classicos_Lancamento-Moeda-Jogo.ipynb)  &nbsp;|&nbsp;\n",
    "[Estados probabilísticos](Sistemas-Classicos_Estados-Probabilisticos.ipynb)  &nbsp;|&nbsp;\n",
    "[Operadores probabilísticos](Sistemas-Classicos_Operadores-Probabilisticos.ipynb) &nbsp;|&nbsp;\n",
    "[Dois bits probabilísticos](Sistemas-Classicos_Dois-Bits-Probabilisticos.ipynb)\n",
    "\n",
    "---\n",
    "\n",
    "### Base para sistemas quânticos\n",
    "\n",
    "[Operador Hadamard](quantum-with-qiskit/Q20_Hadamard.ipynb) &nbsp;|&nbsp;\n",
    "[Um qubit (bit quântico)](quantum-with-qiskit/Q24_One_Qubit.ipynb) &nbsp;|&nbsp;\n",
    "[Estado quântico](quantum-with-qiskit/Q28_Quantum_State.ipynb) &nbsp;|&nbsp;\n",
    "[Visualização de um qubit (com valores reais)](quantum-with-qiskit/Q32_Visualization_of_a_Qubit.ipynb) &nbsp;|&nbsp;\n",
    "[Superposição e medida](quantum-with-qiskit/Q36_Superposition_and_Measurement.ipynb)\n",
    "\n",
    "---\n",
    "\n",
    "### Operadores quânticos em um qubit (com valores reais)\n",
    "\n",
    "[Operações no círculo unitário](quantum-with-qiskit/Q40_Operations_on_the_Unit_Circle.ipynb) &nbsp;|&nbsp;\n",
    "[Rotações](quantum-with-qiskit/Q44_Rotations.ipynb) &nbsp;|&nbsp;\n",
    "[Reflexões](quantum-with-qiskit/Q48_Reflections.ipynb)"
   ]
  }
 ],
 "metadata": {
  "kernelspec": {
   "display_name": "Python 3 (ipykernel)",
   "language": "python",
   "name": "python3"
  },
  "language_info": {
   "codemirror_mode": {
    "name": "ipython",
    "version": 3
   },
   "file_extension": ".py",
   "mimetype": "text/x-python",
   "name": "python",
   "nbconvert_exporter": "python",
   "pygments_lexer": "ipython3",
   "version": "3.11.7"
  }
 },
 "nbformat": 4,
 "nbformat_minor": 5
}
