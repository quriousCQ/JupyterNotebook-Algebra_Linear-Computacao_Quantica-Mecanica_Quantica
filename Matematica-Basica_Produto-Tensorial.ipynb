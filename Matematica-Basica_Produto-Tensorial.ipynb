{
 "cells": [
  {
   "cell_type": "markdown",
   "id": "cbd3e369-560b-49d9-aa6b-67647cbb14e0",
   "metadata": {},
   "source": [
    "<h1 align=\"left\" style=\"color:#3149b5;\"> QURIOUS - COMPUTAÇÃO QUÂNTICA </h1>\n",
    "<h2 align=\"left\" style=\"color:#3149b5;\"> Álgebra Linear para Computação Quântica e Mecânica Quântica </h2>\n",
    "<h3 align=\"left\" style=\"color:#000000;\"> Por Lucas Gregolon e Suzielli Martins Mendonça, com base no trabalho de QWorld e IBM. </h3>\n",
    "<h4 <a href=\"https://qworld.net/qbook101/\"></a> https://qworld.net/qbook101/ e https://docs.quantum.ibm.com/guides/hello-world </h4>"
   ]
  },
  {
   "cell_type": "markdown",
   "id": "90a3cd16-7e14-4ba1-b5cd-90793a12d022",
   "metadata": {},
   "source": [
    "<font style=\"font-size:28px;\" align=\"left\"><b>Matrizes: Produto Tensorial</b></font>\n",
    "<br>"
   ]
  },
  {
   "cell_type": "markdown",
   "id": "a8daeb2e-da9c-4ddd-9cef-f9e9bd1ac000",
   "metadata": {},
   "source": [
    "O produto tensorial é definido entre quaisquer duas matrizes. O resultado é uma nova matriz provavelmente maior.\n",
    "\n",
    "Antes de dar a sua definição formal, a definimos com base em exemplos.\n",
    "\n",
    "Começamos com um caso simples.\n",
    "\n",
    "<i>Um vetor também é uma matriz. Portanto, o produto tensorial pode ser definido entre dois vetores ou entre um vetor e uma matriz.</i>"
   ]
  },
  {
   "cell_type": "markdown",
   "id": "b43e4254-46d1-47ac-b0ef-7753949b884a",
   "metadata": {},
   "source": [
    "<h3> Produto tensorial de dois vetores </h3>\n",
    "\n",
    "Temos dois vetores: $ u = \\begin{pmatrix} -2 \\\\ 3 \\end{pmatrix} $ e $ v = \\begin{pmatrix} 1 \\\\ 2 \\\\ -3 \\end{pmatrix}$.\n",
    "\n",
    "O produto tensorial de $u$ e $v$ é denotado por $u \\otimes v$.\n",
    "\n",
    "Podemos considerar o produto tensorial como uma extensão de $u$ por $v$:\n",
    "\n",
    "$$\n",
    "u \\otimes v = \\begin{pmatrix} -2 \\\\ 3 \\end{pmatrix} \\otimes \\begin{pmatrix} 1 \\\\ 2 \\\\ -3 \\end{pmatrix} = \\begin{pmatrix} -2 \\cdot \\begin{pmatrix} 1 \\\\ 2 \\\\ -3 \\end{pmatrix} \\\\ 3 \\cdot \\begin{pmatrix} 1 \\\\ 2 \\\\ -3 \\end{pmatrix} \\end{pmatrix} = \\begin{pmatrix} -2 \\\\ -4 \\\\ 6 \\\\ 3 \\\\ 6 \\\\ -9 \\end{pmatrix}.\n",
    "$$\n",
    "\n",
    "Aqui, $ -2$ em $u$ é substituído pelo vetor $(-2 v)$, e $3$ em $u$ é substituído pelo vetor $3 v$.\n",
    "\n",
    "Assim, cada entrada de $ u $ é substituída por um vetor tridimensional, e a dimensão do vetor resultante é $ 6~(=2 \\cdot 3) $.\n",
    "\n",
    "Algoritmicamente, cada elemento em $u$ é substituído pela multiplicação deste elemento pelo vetor $v$.\n",
    "\n",
    "Vamos encontrar $ v \\otimes u $ em Python."
   ]
  },
  {
   "cell_type": "code",
   "execution_count": 9,
   "id": "2e2fe249-2d04-4439-9f1a-f4d060270eaa",
   "metadata": {},
   "outputs": [
    {
     "name": "stdout",
     "output_type": "stream",
     "text": [
      "v= [1, 2, -3]\n",
      "u= [-2, 3]\n",
      "vu= [-2, 3, -4, 6, 6, -9]\n"
     ]
    }
   ],
   "source": [
    "# vetor v\n",
    "v = [1,2,-3]\n",
    "# vetor u\n",
    "u=[-2,3]\n",
    "\n",
    "vu = []\n",
    "\n",
    "for i in range(len(v)): # cada elemento de v será substituído\n",
    "    for j in range(len(u)): # o vetor u virá aqui depois de multiplicar pela entrada\n",
    "        vu.append( v[i] * u[j] )\n",
    "\n",
    "print(\"v=\",v)\n",
    "print(\"u=\",u)\n",
    "print(\"vu=\",vu)"
   ]
  },
  {
   "cell_type": "markdown",
   "id": "e5ec3df2-2d21-4b4d-9023-f8f3675c09f5",
   "metadata": {},
   "source": [
    "<h3> Tarefa 1 </h3>\n",
    "\n",
    "Encontre $ u \\otimes v $ e $ v \\otimes u $ para os vetores dados $ u = \\begin{pmatrix} -2 \\\\ -1 \\\\ 0 \\\\ 1 \\end{pmatrix} $ e $ v = \\begin{pmatrix} 1 \\\\ 2 \\\\ 3 \\end{pmatrix} $."
   ]
  },
  {
   "cell_type": "markdown",
   "id": "5a59bcdb-b6a0-4d13-a98a-be6abbd3b357",
   "metadata": {},
   "source": [
    "<h3>Resposta 1</h3>"
   ]
  },
  {
   "cell_type": "code",
   "execution_count": 10,
   "id": "1c5f07e0-0690-4ae3-98fb-ba5f76dab9d1",
   "metadata": {},
   "outputs": [
    {
     "name": "stdout",
     "output_type": "stream",
     "text": [
      "u-tensor-v é [-2, -4, -6, -1, -2, -3, 0, 0, 0, 1, 2, 3]\n",
      "v-tensor-u é [-2, -1, 0, 1, -4, -2, 0, 2, -6, -3, 0, 3]\n"
     ]
    }
   ],
   "source": [
    "u = [-2,-1,0,1]\n",
    "v = [1,2,3]\n",
    "\n",
    "uv = []\n",
    "vu = []\n",
    "\n",
    "\n",
    "for i in range(len(u)): # um elemento de u é escolhido\n",
    "    for j in range(len(v)): # agora selecionamos iterativamente cada elemento de v\n",
    "        uv.append(u[i]*v[j]) # este elemento de u é multiplicado iterativamente por cada elemento de v\n",
    "    \n",
    "print(\"u-tensor-v é\",uv)    \n",
    "\n",
    "for i in range(len(v)): # um elemento de v é escolhido\n",
    "    for j in range(len(u)): # agora selecionamos iterativamente cada elemento de u\n",
    "        vu.append(v[i]*u[j]) # este elemento de v é multiplicado iterativamente por cada elemento de u\n",
    "    \n",
    "print(\"v-tensor-u é\",vu)    "
   ]
  },
  {
   "cell_type": "markdown",
   "id": "02140286-65a0-45ce-a07c-08da079346a4",
   "metadata": {},
   "source": [
    "<h3> Nota:</h3>\n",
    "\n",
    "Os produtos tensoriais são úteis quando temos um sistema composto por dois (ou mais) subsistemas. \n",
    "\n",
    "Qualquer nova entrada após o tensor representa um par de entradas, cada uma delas proveniente de um dos subsistemas.\n",
    "\n",
    "Veremos o uso de produtos tensores no tutorial principal."
   ]
  },
  {
   "cell_type": "markdown",
   "id": "e5e31f2c-10a0-49ed-a0fa-ac9321edc02a",
   "metadata": {},
   "source": [
    "<h3> Produto tensorial de duas matrizes </h3>\n",
    "\n",
    "A definição é a mesma.\n",
    "\n",
    "Vamos encontrar $ M \\otimes N $ e $ N \\otimes M $ para as matrizes fornecidas\n",
    "\n",
    "$\n",
    "M = \\begin{pmatrix} -1 & 0 & 1 \\\\ -2 & -1 & 2 \\\\ 1 & 2 & -2 \\end{pmatrix}\\ \\mbox{e}\\ N = \\begin{pmatrix} 0 & 2 & 1 \\\\ 3 & -1 & -2 \\\\ -1 & 1 & 0 \\end{pmatrix}.\n",
    "$\n",
    "\n",
    "$M \\otimes N$: Cada elemento de $M$ será substituído por toda a matriz $N$ após a multiplicação por este elemento.\n",
    "\n",
    "$$\n",
    "M \\otimes N = \\begin{pmatrix} -1 & 0 & 1 \\\\ -2 & -1 & 2 \\\\ 1 & 2 & -2 \\end{pmatrix} \\otimes \\begin{pmatrix} 0 & 2 & 1 \\\\ 3 & -1 & -2 \\\\ -1 & 1 & 0 \\end{pmatrix}\\\\\n",
    "= \\begin{pmatrix} -1 \\begin{pmatrix} 0 & 2 & 1 \\\\ 3 & -1 & -2 \\\\ -1 & 1 & 0 \\end{pmatrix} & 0 \\begin{pmatrix} 0 & 2 & 1 \\\\ 3 & -1 & -2 \\\\ -1 & 1 & 0 \\end{pmatrix} & 1 \\begin{pmatrix} 0 & 2 & 1 \\\\ 3 & -1 & -2 \\\\ -1 & 1 & 0 \\end{pmatrix} \\\\ -2 \\begin{pmatrix} 0 & 2 & 1 \\\\ 3 & -1 & -2 \\\\ -1 & 1 & 0 \\end{pmatrix} & -1 \\begin{pmatrix} 0 & 2 & 1 \\\\ 3 & -1 & -2 \\\\ -1 & 1 & 0 \\end{pmatrix} & 2 \\begin{pmatrix} 0 & 2 & 1 \\\\ 3 & -1 & -2 \\\\ -1 & 1 & 0 \\end{pmatrix} \\\\ 1 \\begin{pmatrix} 0 & 2 & 1 \\\\ 3 & -1 & -2 \\\\ -1 & 1 & 0 \\end{pmatrix} & 2 \\begin{pmatrix} 0 & 2 & 1 \\\\ 3 & -1 & -2 \\\\ -1 & 1 & 0 \\end{pmatrix} & -2 \\begin{pmatrix} 0 & 2 & 1 \\\\ 3 & -1 & -2 \\\\ -1 & 1 & 0 \\end{pmatrix} \\end{pmatrix}\n",
    "$$\n",
    "\n",
    "Calcular manualmente parece uma tarefa chata devido às muitas repetições. \r\n",
    "\r\n",
    "Fazemos isso manualmente (em mente) e depois verificamos o resultado em Python."
   ]
  },
  {
   "cell_type": "markdown",
   "id": "7f941a6b-9f41-4fee-ad87-342c84961b9c",
   "metadata": {},
   "source": [
    "$$\n",
    "    M \\otimes N = \\begin{pmatrix}\n",
    "        0 & -2 & -1 & 0 & 0 & 0 & 0 & 2 & 1 \\\\\n",
    "        -3 & 1 & 2 & 0 & 0 & 0 & 3 & -1 & -2 \\\\\n",
    "        1 & -1 & 0 & 0 & 0 & 0 & -1 & 1 & 0 \\\\\n",
    "        0 & -4 & -2 & 0 & -2 & -1 & 0 & 4 & 2 \\\\\n",
    "        -6 & 2 & 4 & -3 & 1 & 2 & 6 & -2 & -4 \\\\\n",
    "        2 & -2 & 0 & 1 & -1 & 0 & -2 & 2 & 0 \\\\\n",
    "        0 & 2 & 1 & 0 & 4 & 2 & 0 &  -4 & -2 \\\\\n",
    "        3 & -1 & -2 & 6 & -2 & -4 & -6 & 2 & 4 \\\\\n",
    "        -1 & 1 & 0 & -2 & 2 & 0 & 2 & -2 & 0\n",
    "        \\end{pmatrix}\n",
    "$$\n",
    "\n",
    "Agora, encontramos a mesma matriz em Python.\r\n",
    "\r\n",
    "Desta vez usamos quatro loops for aninhados."
   ]
  },
  {
   "cell_type": "code",
   "execution_count": 11,
   "id": "b826787c-4e64-45e8-9c3b-162a580e670e",
   "metadata": {},
   "outputs": [
    {
     "name": "stdout",
     "output_type": "stream",
     "text": [
      "M-tensor-N é\n",
      "[0, -2, -1, 0, 0, 0, 0, 2, 1]\n",
      "[-3, 1, 2, 0, 0, 0, 3, -1, -2]\n",
      "[1, -1, 0, 0, 0, 0, -1, 1, 0]\n",
      "[0, -4, -2, 0, -2, -1, 0, 4, 2]\n",
      "[-6, 2, 4, -3, 1, 2, 6, -2, -4]\n",
      "[2, -2, 0, 1, -1, 0, -2, 2, 0]\n",
      "[0, 2, 1, 0, 4, 2, 0, -4, -2]\n",
      "[3, -1, -2, 6, -2, -4, -6, 2, 4]\n",
      "[-1, 1, 0, -2, 2, 0, 2, -2, 0]\n"
     ]
    }
   ],
   "source": [
    "# matriz M\n",
    "M = [ \n",
    "    [-1,0,1],\n",
    "    [-2,-1,2],\n",
    "    [1,2,-2]\n",
    "]\n",
    "\n",
    "# matriz N\n",
    "N = [\n",
    "    [0,2,1],\n",
    "    [3,-1,-2],\n",
    "    [-1,1,0]\n",
    "]\n",
    "\n",
    "# MN será uma matriz de dimensão (9x9)\n",
    "# preparamos como uma matriz zero\n",
    "# isso nos ajuda a preenchê-la facilmente\n",
    "MN=[]\n",
    "for i in range(9):\n",
    "    MN.append([])\n",
    "    for j in range(9):\n",
    "        MN[i].append(0)\n",
    "\n",
    "for i in range(3): # linha de M\n",
    "    for j in range(3): # coluna de M\n",
    "        for k in range(3): # linha de N\n",
    "            for l in range(3): # coluna de N\n",
    "                MN[i*3+k][3*j+l] = M[i][j] * N[k][l] \n",
    "\n",
    "print(\"M-tensor-N é\")                \n",
    "for i in range(9):\n",
    "    print(MN[i])"
   ]
  },
  {
   "cell_type": "markdown",
   "id": "dde3480d-6876-4ce8-9bdf-89d706bb5414",
   "metadata": {},
   "source": [
    "Encontramos $ N \\otimes M $ em Python.\n",
    "\n",
    "Usamos o mesmo código trocando $N$ e $M$."
   ]
  },
  {
   "cell_type": "code",
   "execution_count": 12,
   "id": "2a44249d-1736-4e2c-bff9-5b899b7b25e3",
   "metadata": {},
   "outputs": [
    {
     "name": "stdout",
     "output_type": "stream",
     "text": [
      "N-tensor-M é\n",
      "[0, 0, 0, -2, 0, 2, -1, 0, 1]\n",
      "[0, 0, 0, -4, -2, 4, -2, -1, 2]\n",
      "[0, 0, 0, 2, 4, -4, 1, 2, -2]\n",
      "[-3, 0, 3, 1, 0, -1, 2, 0, -2]\n",
      "[-6, -3, 6, 2, 1, -2, 4, 2, -4]\n",
      "[3, 6, -6, -1, -2, 2, -2, -4, 4]\n",
      "[1, 0, -1, -1, 0, 1, 0, 0, 0]\n",
      "[2, 1, -2, -2, -1, 2, 0, 0, 0]\n",
      "[-1, -2, 2, 1, 2, -2, 0, 0, 0]\n"
     ]
    }
   ],
   "source": [
    "# matrizes M e N foram definidas acima\n",
    "\n",
    "# matriz NM será preparada como uma matriz zero de dimensão (9x9)\n",
    "NM=[]\n",
    "for i in range(9):\n",
    "    NM.append([])\n",
    "    for j in range(9):\n",
    "        NM[i].append(0)\n",
    "\n",
    "for i in range(3): # linha de N\n",
    "    for j in range(3): # coluna de N\n",
    "        for k in range(3): # linha de M\n",
    "            for l in range(3): # coluna de M\n",
    "                NM[i*3+k][3*j+l] = N[i][j] * M[k][l] \n",
    "\n",
    "print(\"N-tensor-M é\")\n",
    "for i in range(9):\n",
    "    print(NM[i])"
   ]
  },
  {
   "cell_type": "markdown",
   "id": "0c16b5f7-438e-4ad7-a174-fd2114bee3a8",
   "metadata": {},
   "source": [
    "<h3> Tarefa 2 </h3>\n",
    "\n",
    "Encontre $ A \\otimes B $ para as matrizes fornecidas\n",
    "$\n",
    "A = \\begin{pmatrix} -1 & 0 & 1 \\\\ -2 & -1 & 2 \\end{pmatrix}\\ \\mbox{e}\\ B = \\begin{pmatrix} 0 & 2 \\\\ 3 & -1 \\\\ -1 & 1 \\end{pmatrix}.\n",
    "$"
   ]
  },
  {
   "cell_type": "markdown",
   "id": "929bdc68-43eb-4cb3-9086-656e372a463e",
   "metadata": {},
   "source": [
    "<h3>Resposta 2</h3>"
   ]
  },
  {
   "cell_type": "code",
   "execution_count": 13,
   "id": "5c14f9d8-d4c6-4ff1-ae4b-73b7abb36e18",
   "metadata": {},
   "outputs": [
    {
     "name": "stdout",
     "output_type": "stream",
     "text": [
      "A =\n",
      "[-1, 0, 1]\n",
      "[-2, -1, 2]\n",
      "\n",
      "B =\n",
      "[0, 2]\n",
      "[3, -1]\n",
      "[-1, 1]\n",
      "\n",
      "A-tensor-B =\n",
      "\n",
      "[0, -2, 0, 0, 0, 2]\n",
      "[-3, 1, 0, 0, 3, -1]\n",
      "[1, -1, 0, 0, -1, 1]\n",
      "[0, -4, 0, -2, 0, 4]\n",
      "[-6, 2, -3, 1, 6, -2]\n",
      "[2, -2, 1, -1, -2, 2]\n"
     ]
    }
   ],
   "source": [
    "A = [\n",
    "    [-1,0,1],\n",
    "    [-2,-1,2]\n",
    "]\n",
    "\n",
    "B = [\n",
    "    [0,2],\n",
    "    [3,-1],\n",
    "    [-1,1]\n",
    "]\n",
    "\n",
    "print(\"A =\")\n",
    "for i in range(len(A)):\n",
    "    print(A[i])\n",
    "\n",
    "print()\n",
    "print(\"B =\")\n",
    "for i in range(len(B)):\n",
    "    print(B[i])\n",
    "\n",
    "# vamos definir A-tensor-B como uma matriz zero de dimensão (6x6)\n",
    "AB = []\n",
    "for i in range(6):\n",
    "    AB.append([])\n",
    "    for j in range(6):\n",
    "        AB[i].append(0)\n",
    "        \n",
    "# vamos encontrar A-tensor-B\n",
    "for i in range(2):\n",
    "    for j in range(3):\n",
    "        # para cada A(i,j) executamos os seguintes códigos\n",
    "        a = A[i][j]\n",
    "        # acessamos cada elemento de B\n",
    "        for m in range(3):\n",
    "            for n in range(2):\n",
    "                b = B[m][n]\n",
    "                # agora colocamos (a*b) no índice apropriado de AB\n",
    "                AB[3*i+m][2*j+n] = a * b\n",
    "\n",
    "print()\n",
    "print(\"A-tensor-B =\") \n",
    "print()\n",
    "for i in range(6):\n",
    "    print(AB[i])"
   ]
  },
  {
   "cell_type": "markdown",
   "id": "9592bf41-1ab0-47c1-98ee-06028ffb6bdc",
   "metadata": {},
   "source": [
    "<h3> Tarefa 3 </h3>\n",
    "\n",
    "Encontre $ B \\otimes A $ para as matrizes fornecidas\n",
    "$\n",
    "A = A = \\begin{pmatrix} -1 & 0 & 1 \\\\ -2 & -1 & 2 \\end{pmatrix}\\ \\mbox{e}\\ B = A = \\begin{pmatrix} 0 & 2 \\\\ 3 & -1 \\\\ -1 & 1 \\end{pmatrix}.\n",
    "$\n",
    "\n",
    "Você pode usar o código da solução para a Tarefa 2.\n",
    "\n",
    "Mas tenha cuidado com os índices e valores de intervalo e como eles são trocados!"
   ]
  },
  {
   "cell_type": "markdown",
   "id": "6f0b6344-ec0e-49c8-815e-974913adaa23",
   "metadata": {},
   "source": [
    "<h3>Resposta 3</h3>"
   ]
  },
  {
   "cell_type": "code",
   "execution_count": 14,
   "id": "7ebc8256-9659-4071-b417-8b703667efee",
   "metadata": {},
   "outputs": [
    {
     "name": "stdout",
     "output_type": "stream",
     "text": [
      "\n",
      "B =\n",
      "[0, 2]\n",
      "[3, -1]\n",
      "[-1, 1]\n",
      "A =\n",
      "[-1, 0, 1]\n",
      "[-2, -1, 2]\n",
      "\n",
      "B-tensor-A =\n",
      "\n",
      "[0, 0, 0, -2, 0, 2]\n",
      "[0, 0, 0, -4, -2, 4]\n",
      "[-3, 0, 3, 1, 0, -1]\n",
      "[-6, -3, 6, 2, 1, -2]\n",
      "[1, 0, -1, -1, 0, 1]\n",
      "[2, 1, -2, -2, -1, 2]\n"
     ]
    }
   ],
   "source": [
    "A = [\n",
    "    [-1,0,1],\n",
    "    [-2,-1,2]\n",
    "]\n",
    "\n",
    "B = [\n",
    "    [0,2],\n",
    "    [3,-1],\n",
    "    [-1,1]\n",
    "]\n",
    "\n",
    "print()\n",
    "print(\"B =\")\n",
    "for i in range(len(B)):\n",
    "    print(B[i])\n",
    "    \n",
    "print(\"A =\")\n",
    "for i in range(len(A)):\n",
    "    print(A[i])\n",
    "\n",
    "# vamos definir A-tensor-B como uma matriz zero de dimensão (6x6)\n",
    "BA = []\n",
    "for i in range(6):\n",
    "    BA.append([])\n",
    "    for j in range(6):\n",
    "        BA[i].append(0)\n",
    "        \n",
    "# vamos encontrar B-tensor-A\n",
    "for i in range(3):\n",
    "    for j in range(2):\n",
    "        # para cada A(i,j) executamos os seguintes códigos\n",
    "        b = B[i][j]\n",
    "        # acessamos cada elemento de B\n",
    "        for m in range(2):\n",
    "            for n in range(3):\n",
    "                a = A[m][n]\n",
    "                # agora colocamos (a*b) no índice apropriado de AB\n",
    "                BA[2*i+m][3*j+n] = b * a\n",
    "\n",
    "print()\n",
    "print(\"B-tensor-A =\") \n",
    "print()\n",
    "for i in range(6):\n",
    "    print(BA[i])"
   ]
  }
 ],
 "metadata": {
  "kernelspec": {
   "display_name": "Python 3 (ipykernel)",
   "language": "python",
   "name": "python3"
  },
  "language_info": {
   "codemirror_mode": {
    "name": "ipython",
    "version": 3
   },
   "file_extension": ".py",
   "mimetype": "text/x-python",
   "name": "python",
   "nbconvert_exporter": "python",
   "pygments_lexer": "ipython3",
   "version": "3.11.7"
  }
 },
 "nbformat": 4,
 "nbformat_minor": 5
}
