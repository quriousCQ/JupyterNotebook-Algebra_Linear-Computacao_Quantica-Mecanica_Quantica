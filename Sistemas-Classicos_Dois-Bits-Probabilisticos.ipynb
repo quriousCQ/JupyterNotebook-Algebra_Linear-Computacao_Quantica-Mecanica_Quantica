{
 "cells": [
  {
   "cell_type": "markdown",
   "id": "d09c4b45-7d93-4cf5-8b46-85ed898c4927",
   "metadata": {},
   "source": [
    "<h1 align=\"left\" style=\"color:#3149b5;\"> QURIOUS - COMPUTAÇÃO QUÂNTICA </h1>\n",
    "<h2 align=\"left\" style=\"color:#3149b5;\"> Álgebra Linear para Computação Quântica e Mecânica Quântica </h2>\n",
    "<h3 align=\"left\" style=\"color:#000000;\"> Por Lucas Gregolon e Suzielli Martins Mendonça, com base no trabalho de QWorld e IBM. </h3>\n",
    "<h4 <a href=\"https://qworld.net/qbook101/\"></a> https://qworld.net/qbook101/ e https://docs.quantum.ibm.com/guides/hello-world </h4>"
   ]
  },
  {
   "cell_type": "markdown",
   "id": "7a63664b-ce79-4c36-b647-ed057f7a96a6",
   "metadata": {},
   "source": [
    "<font style=\"font-size:28px;\" align=\"left\"><b>Dois Bits Probabilísticos</b></font>\n",
    "<br>"
   ]
  },
  {
   "cell_type": "markdown",
   "id": "b90b5241-9d77-4b46-bcb1-806546057cba",
   "metadata": {},
   "source": [
    "Suponha que temos dois bits probabilísticos e nossos estados probabilísticos, respectivamente, são\n",
    "\n",
    "$ \\begin{pmatrix} 0,2 \\\\ 0,8 \\end{pmatrix} \\mbox{ e } \\begin{pmatrix} 0,6 \\\\ 0,4 \\end{pmatrix}. $\n",
    "\n",
    "Se combinarmos os dois bits como um sistema único, qual será o estado do sistema combinado?"
   ]
  },
  {
   "cell_type": "markdown",
   "id": "990f845b-e0c1-4379-91d2-54a9f3d932b5",
   "metadata": {},
   "source": [
    "No total, temos quatro estados diferentes. Podemos nomeá-los da seguinte forma:\n",
    "<ul>\n",
    "    <li>00: ambos os bits estão no estado 0</li>\n",
    "    <li>01: o primeiro bit está no estado 0 e o segundo bit está no estado 1</li>\n",
    "    <li>10: o primeiro bit está no estado 1 e o segundo bit está no estado 0</li>\n",
    "    <li>11: ambos os bits estão no estado 1</li>\n",
    "</ul>"
   ]
  },
  {
   "cell_type": "markdown",
   "id": "aec51222-2c7e-4ea3-8536-49364d96a454",
   "metadata": {},
   "source": [
    "<h3> Tarefa 1 </h3>\n",
    "\n",
    "<b>Discussão e análise:</b>\n",
    "\n",
    "Quais são as probabilidades de estar nos estados $ 00 $, $ 01 $, $ 10 $ e $ 11$?\n",
    "\n",
    "Como podemos representar essas probabilidades como um vetor coluna?"
   ]
  },
  {
   "cell_type": "markdown",
   "id": "29b524f7-154a-4a6a-97cc-65a372bd7bf9",
   "metadata": {},
   "source": [
    "<h3> Representação para os estados 0 e 1</h3>\n",
    "\n",
    "A representação vetorial do estado 0 é $ \\begin{pmatrix} 1 \\\\ 0 \\end{pmatrix} $. Da mesma forma, a representação vetorial do estado 1 é $ \\begin{pmatrix} 0 \\\\ 1 \\end{pmatrix} $.\n",
    "\n",
    "Usamos $ \\lceil 0 \\rfloor $ para representar $ \\begin{pmatrix} 1 \\\\ 0 \\end{pmatrix} $ e $ \\lceil 1 \\rfloor $ para representar $ \\begin{pmatrix} 0 \\\\ 1 \\end{pmatrix} $.\n",
    "\n",
    "Então, o estado probabilístico $ \\begin{pmatrix} 0,2 \\\\ 0,8 \\end{pmatrix} $ também é representado como $ 0,2 \\lceil 0 \\rfloor + 0,8 \\lceil 1 \\rfloor $.\n",
    "\n",
    "Da mesma forma, o estado probabilístico $ \\begin{pmatrix} 0,6 \\\\ 0,4 \\end{pmatrix} $ também é representado como $ 0,6 \\lceil 0 \\rfloor + 0,4 \\lceil 1 \\rfloor $."
   ]
  },
  {
   "cell_type": "markdown",
   "id": "936dbe46-1c99-48d5-8791-5170846aec0a",
   "metadata": {},
   "source": [
    "<h3> Sistemas compostos </h3>\n",
    "\n",
    "Quando dois sistemas são compostos, seus estados são tensorados para calcular o estado do sistema composto.\n",
    "\n",
    "O estado probabilístico do primeiro bit é $ \\begin{pmatrix} 0,2 \\\\ 0,8 \\end{pmatrix} = 0,2 \\lceil 0 \\rfloor + 0,8 \\lceil 1 \\rfloor $.\n",
    "\n",
    "O estado probabilístico do segundo bit é $ \\begin{pmatrix} 0,6 \\\\ 0,4 \\end{pmatrix} = 0,6 \\lceil 0 \\rfloor + 0,4 \\lceil 1 \\rfloor $.\n",
    "\n",
    "Então, o estado probabilístico do sistema composto é $ \\left( 0,2 \\lceil 0 \\rfloor + 0,8 \\lceil 1 \\rfloor \\right) \\otimes \\left( 0,6 \\lceil 0 \\rfloor + 0,4 \\lceil 1 \\rfloor \\right) $."
   ]
  },
  {
   "cell_type": "markdown",
   "id": "28a01968-e96b-4bac-8050-4afea6762fa0",
   "metadata": {},
   "source": [
    "<h3> Tarefa 2 </h3>\n",
    "\n",
    "Encontre o estado probabilístico do sistema composto.\n",
    "\n",
    "<eu> \n",
    "Regra 1: O produto tensorial é distribuído sobre a adição da mesma forma que a distribuição da multiplicação sobre a adição.\n",
    "\n",
    "Regra 2: $ \\left( 0,3 \\lceil 1 \\rfloor \\right) \\otimes \\left( 0,7 \\lceil 0 \\rfloor \\right) = (0,3 \\cdot 0,7) \\left( \\lceil 1 \\rfloor \\otimes \\lceil 0 \\rfloor \\right) = 0,21 \\lceil 10 \\rfloor $.\n",
    "</i>"
   ]
  },
  {
   "cell_type": "markdown",
   "id": "faca2fd1-f254-45cf-9ed1-991f288c005f",
   "metadata": {},
   "source": [
    "<h3> Resposta 2 </h3>"
   ]
  },
  {
   "cell_type": "markdown",
   "id": "726fbc7d-39e7-4d6b-b248-39c62e346a41",
   "metadata": {},
   "source": [
    "O estado probabilístico do sistema composto é $ \\left( 0,2 \\lceil 0 \\rfloor + 0,8 \\lceil 1 \\rfloor \\right) \\otimes \\left( 0,6 \\lceil 0 \\rfloor + 0,4 \\lceil 1 \\rfloor \\right) $ .\n",
    "\n",
    "$ \\left( 0,2 \\lceil 0 \\rfloor + 0,8 \\lceil 1 \\rfloor \\right) \\otimes \\left(  0,6 \\lceil 0 \\rfloor + 0,4 \\lceil 1 \\rfloor \\right) = $\n",
    "\n",
    "$ 0,12 \\left(  \\lceil 0 \\rfloor \\otimes \\lceil 0 \\rfloor \\right) + 0,08 \\left(  \\lceil 0 \\rfloor \\otimes \\lceil 1 \\rfloor \\right) + 0,48 \\left(  \\lceil 1 \\rfloor \\otimes \\lceil 0 \\rfloor \\right) + 0,32 \\left(  \\lceil 1 \\rfloor \\otimes \\lceil 1 \\rfloor \\right) = $\n",
    "\n",
    "$ 0,12 \\lceil 00 \\rfloor + 0,08 \\lceil 01 \\rfloor + 0,48 \\lceil 10 \\rfloor + 0,32 \\lceil 11 \\rfloor. $"
   ]
  },
  {
   "cell_type": "markdown",
   "id": "731529f5-8726-4ff2-bacc-167a821ce6c4",
   "metadata": {},
   "source": [
    "<h3> Tarefa 3</h3>\n",
    "\n",
    "Encontre o estado probabilístico do sistema composto calculando este produto tensorial $ \\begin{pmatrix} 0,2 \\\\ 0,8 \\end{pmatrix} \\otimes \\begin{pmatrix} 0,6 \\\\ 0,4 \\end{pmatrix} $."
   ]
  },
  {
   "cell_type": "markdown",
   "id": "039feb3e-4f72-44db-b14a-35b9ff8499cf",
   "metadata": {},
   "source": [
    "<h3> Resposta 3 </h3>"
   ]
  },
  {
   "cell_type": "markdown",
   "id": "c3f6fff1-5aa4-4c3b-acad-8b70de457929",
   "metadata": {},
   "source": [
    "$\n",
    "\\begin{pmatrix} 0.2 \\\\ 0.8 \\end{pmatrix} \\otimes \\begin{pmatrix} 0.6 \\\\ 0.4 \\end{pmatrix} = \\begin{pmatrix} 0.2 \\begin{pmatrix} 0.6 \\\\ 0.4 \\end{pmatrix} \\\\ 0.8 \\begin{pmatrix} 0.6 \\\\ 0.4 \\end{pmatrix} \\end{pmatrix} = \\begin{pmatrix} 0.12 \\\\ 0.08 \\\\ 0.48 \\\\ 0.32 \\end{pmatrix}\n",
    "$"
   ]
  },
  {
   "cell_type": "markdown",
   "id": "4a1ad911-ba14-41c2-8145-112626add765",
   "metadata": {},
   "source": [
    "<h3> Tarefa 4</h3>\n",
    "\n",
    "Encontre as representações vetoriais de $ \\lceil 00 \\rfloor $, $ \\lceil 01 \\rfloor $, $\\lceil 10 \\rfloor$ e $ \\lceil 11 \\rfloor $.\n",
    "\n",
    "<i>A representação vetorial de $ \\lceil ab \\rfloor $ é $ \\lceil a \\rfloor \\otimes \\lceil b \\rfloor $ para $ a,b \\in \\{0,1\\} $.</i>"
   ]
  },
  {
   "cell_type": "markdown",
   "id": "c45e81f4-23d1-4689-82aa-0e1285cbec63",
   "metadata": {},
   "source": [
    "$ \\lceil 00 \\rfloor = \\lceil 0 \\rfloor \\otimes \\lceil 0 \\rfloor = \\begin{pmatrix} 1 \\\\ 0 \\end{pmatrix} \\otimes \\begin{pmatrix} 1 \\\\ 0 \\end{pmatrix} =  \\begin{pmatrix} 1 \\begin{pmatrix} 1 \\\\ 0 \\end{pmatrix} \\\\ 0 \\begin{pmatrix} 1 \\\\ 0 \\end{pmatrix} \\end{pmatrix} = \\begin{pmatrix} 1 \\\\ 0 \\\\ 0 \\\\ 0 \\end{pmatrix} $.\n",
    "\n",
    "$ \\lceil 01 \\rfloor = \\lceil 0 \\rfloor \\otimes \\lceil 1 \\rfloor = \\begin{pmatrix} 1 \\\\ 0 \\end{pmatrix} \\otimes \\begin{pmatrix} 0 \\\\ 1 \\end{pmatrix} = \\begin{pmatrix} 1 \\begin{pmatrix} 0 \\\\ 1 \\end{pmatrix} \\\\ 0 \\begin{pmatrix} 0 \\\\ 1 \\end{pmatrix} \\end{pmatrix} = \\begin{pmatrix} 0 \\\\ 1 \\\\ 0 \\\\ 0 \\end{pmatrix} $.\n",
    "\n",
    "$ \\lceil 10 \\rfloor = \\lceil 1 \\rfloor \\otimes \\lceil 0 \\rfloor = \\begin{pmatrix} 0 \\\\ 1 \\end{pmatrix} \\otimes \\begin{pmatrix} 1 \\\\ 0 \\end{pmatrix} = \\begin{pmatrix} 0 \\begin{pmatrix} 1 \\\\ 0\\end{pmatrix} \\\\ 1 \\begin{pmatrix} 1 \\\\ 0 \\end{pmatrix} \\end{pmatrix} = \\begin{pmatrix} 0 \\\\ 0 \\\\ 1 \\\\ 0 \\end{pmatrix} $.\n",
    "\n",
    "$ \\lceil 11 \\rfloor = \\lceil 1 \\rfloor \\otimes \\lceil 1 \\rfloor = \\begin{pmatrix} 0 \\\\ 1 \\end{pmatrix} \\otimes \\begin{pmatrix} 0 \\\\ 1 \\end{pmatrix} = \\begin{pmatrix} 0 \\begin{pmatrix} 0 \\\\ 1 \\end{pmatrix} \\\\ 1 \\begin{pmatrix} 0 \\\\ 1 \\end{pmatrix} \\end{pmatrix} = \\begin{pmatrix} 0 \\\\ 0 \\\\ 0 \\\\ 1 \\end{pmatrix} $."
   ]
  }
 ],
 "metadata": {
  "kernelspec": {
   "display_name": "Python 3 (ipykernel)",
   "language": "python",
   "name": "python3"
  },
  "language_info": {
   "codemirror_mode": {
    "name": "ipython",
    "version": 3
   },
   "file_extension": ".py",
   "mimetype": "text/x-python",
   "name": "python",
   "nbconvert_exporter": "python",
   "pygments_lexer": "ipython3",
   "version": "3.11.7"
  }
 },
 "nbformat": 4,
 "nbformat_minor": 5
}
